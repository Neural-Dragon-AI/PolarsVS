{
 "cells": [
  {
   "cell_type": "code",
   "execution_count": 2,
   "metadata": {},
   "outputs": [],
   "source": [
    "import polars as pl\n",
    "import os\n",
    "import time"
   ]
  },
  {
   "cell_type": "code",
   "execution_count": 3,
   "metadata": {},
   "outputs": [],
   "source": [
    "# Get the current directory\n",
    "current_dir = os.getcwd()\n",
    "\n",
    "# Specify the cache directory as 'data' subdirectory within the current directory\n",
    "cache_dir = os.path.join(current_dir, \"data\")\n",
    "data_name = \"big_1m_test_dataset_dbpedia.parquet\"\n",
    "# data_name = \"small_100k_test_dataset_dbpedia.parquet\"\n",
    "width = 3072\n",
    "data_path = os.path.join(cache_dir, data_name)"
   ]
  },
  {
   "cell_type": "code",
   "execution_count": 4,
   "metadata": {},
   "outputs": [],
   "source": [
    "df = pl.read_parquet(data_path)\n"
   ]
  },
  {
   "cell_type": "code",
   "execution_count": 5,
   "metadata": {},
   "outputs": [
    {
     "data": {
      "text/html": [
       "<div><style>\n",
       ".dataframe > thead > tr,\n",
       ".dataframe > tbody > tr {\n",
       "  text-align: right;\n",
       "  white-space: pre-wrap;\n",
       "}\n",
       "</style>\n",
       "<small>shape: (1_000_000, 1)</small><table border=\"1\" class=\"dataframe\"><thead><tr><th>len</th></tr><tr><td>u32</td></tr></thead><tbody><tr><td>3072</td></tr><tr><td>3072</td></tr><tr><td>3072</td></tr><tr><td>3072</td></tr><tr><td>3072</td></tr><tr><td>3072</td></tr><tr><td>3072</td></tr><tr><td>3072</td></tr><tr><td>3072</td></tr><tr><td>3072</td></tr><tr><td>3072</td></tr><tr><td>3072</td></tr><tr><td>&hellip;</td></tr><tr><td>3072</td></tr><tr><td>3072</td></tr><tr><td>3072</td></tr><tr><td>3072</td></tr><tr><td>3072</td></tr><tr><td>3072</td></tr><tr><td>3072</td></tr><tr><td>3072</td></tr><tr><td>3072</td></tr><tr><td>3072</td></tr><tr><td>3072</td></tr><tr><td>3072</td></tr></tbody></table></div>"
      ],
      "text/plain": [
       "shape: (1_000_000, 1)\n",
       "┌──────┐\n",
       "│ len  │\n",
       "│ ---  │\n",
       "│ u32  │\n",
       "╞══════╡\n",
       "│ 3072 │\n",
       "│ 3072 │\n",
       "│ 3072 │\n",
       "│ 3072 │\n",
       "│ 3072 │\n",
       "│ …    │\n",
       "│ 3072 │\n",
       "│ 3072 │\n",
       "│ 3072 │\n",
       "│ 3072 │\n",
       "│ 3072 │\n",
       "└──────┘"
      ]
     },
     "execution_count": 5,
     "metadata": {},
     "output_type": "execute_result"
    }
   ],
   "source": [
    "df.select(pl.col(\"embeddings\").list.len().alias(\"len\"))"
   ]
  },
  {
   "cell_type": "code",
   "execution_count": 6,
   "metadata": {},
   "outputs": [
    {
     "data": {
      "text/html": [
       "<div><style>\n",
       ".dataframe > thead > tr,\n",
       ".dataframe > tbody > tr {\n",
       "  text-align: right;\n",
       "  white-space: pre-wrap;\n",
       "}\n",
       "</style>\n",
       "<small>shape: (1_000_000, 3)</small><table border=\"1\" class=\"dataframe\"><thead><tr><th>id</th><th>combined_text</th><th>embeddings</th></tr><tr><td>u32</td><td>str</td><td>array[f64, 3072]</td></tr></thead><tbody><tr><td>0</td><td>&quot;Parabolic refl…</td><td>[-0.022388, 0.028537, … -0.013797]</td></tr><tr><td>1</td><td>&quot;John Baird (Ca…</td><td>[-0.009061, -0.011509, … 0.014185]</td></tr><tr><td>2</td><td>&quot;The 80s: A Loo…</td><td>[-0.006117, -0.002699, … -0.000185]</td></tr><tr><td>3</td><td>&quot;Shin Sang-ok S…</td><td>[0.033835, -0.006922, … -0.023406]</td></tr><tr><td>4</td><td>&quot;Géza Anda Géza…</td><td>[-0.013956, 0.007346, … 0.002309]</td></tr><tr><td>5</td><td>&quot;Marge vs. the …</td><td>[-0.016115, -0.016613, … 0.002089]</td></tr><tr><td>6</td><td>&quot;Quebec general…</td><td>[0.029057, 0.005818, … 0.005066]</td></tr><tr><td>7</td><td>&quot;D. P. Todd Sec…</td><td>[0.024967, 0.003702, … 0.02632]</td></tr><tr><td>8</td><td>&quot;Dennis Gamsy D…</td><td>[0.024082, 0.017386, … 0.007041]</td></tr><tr><td>9</td><td>&quot;Gourmet Night …</td><td>[-0.015987, 0.029655, … 0.010463]</td></tr><tr><td>10</td><td>&quot;817 Squadron R…</td><td>[-0.031801, 0.016233, … 0.026679]</td></tr><tr><td>11</td><td>&quot;The Standard (…</td><td>[-0.001427, -0.017657, … 0.014263]</td></tr><tr><td>&hellip;</td><td>&hellip;</td><td>&hellip;</td></tr><tr><td>999988</td><td>&quot;Common rock th…</td><td>[-0.004788, 0.017107, … 0.028859]</td></tr><tr><td>999989</td><td>&quot;Angami Naga Th…</td><td>[-0.033619, 0.014189, … 0.00333]</td></tr><tr><td>999990</td><td>&quot;Oga Peninsula …</td><td>[-0.006787, -0.026435, … -0.002515]</td></tr><tr><td>999991</td><td>&quot;Danius Danius …</td><td>[0.016086, 0.029862, … -0.017907]</td></tr><tr><td>999992</td><td>&quot;Restitutio ad …</td><td>[-0.014246, -0.024884, … 0.005373]</td></tr><tr><td>999993</td><td>&quot;Pleisthenes In…</td><td>[0.008138, -0.003476, … -0.011425]</td></tr><tr><td>999994</td><td>&quot;Cody Carlson M…</td><td>[0.005427, -0.036458, … -0.012576]</td></tr><tr><td>999995</td><td>&quot;Boomerang (Han…</td><td>[-0.007003, -0.011693, … 0.012524]</td></tr><tr><td>999996</td><td>&quot;Claud Schuster…</td><td>[0.041402, -0.003655, … -0.010248]</td></tr><tr><td>999997</td><td>&quot;Georgia Northe…</td><td>[-0.010983, -0.000058, … 0.031838]</td></tr><tr><td>999998</td><td>&quot;Music of Ukrai…</td><td>[-0.022814, -0.006859, … -0.004651]</td></tr><tr><td>999999</td><td>&quot;Affix grammar …</td><td>[-0.029692, 0.042943, … 0.014484]</td></tr></tbody></table></div>"
      ],
      "text/plain": [
       "shape: (1_000_000, 3)\n",
       "┌────────┬───────────────────────────────────┬───────────────────────────────────┐\n",
       "│ id     ┆ combined_text                     ┆ embeddings                        │\n",
       "│ ---    ┆ ---                               ┆ ---                               │\n",
       "│ u32    ┆ str                               ┆ array[f64, 3072]                  │\n",
       "╞════════╪═══════════════════════════════════╪═══════════════════════════════════╡\n",
       "│ 0      ┆ Parabolic reflector A parabolic … ┆ [-0.022388, 0.028537, … -0.01379… │\n",
       "│ 1      ┆ John Baird (Canadian politician)… ┆ [-0.009061, -0.011509, … 0.01418… │\n",
       "│ 2      ┆ The 80s: A Look Back at the Tumu… ┆ [-0.006117, -0.002699, … -0.0001… │\n",
       "│ 3      ┆ Shin Sang-ok Shin Sang-ok (Octob… ┆ [0.033835, -0.006922, … -0.02340… │\n",
       "│ 4      ┆ Géza Anda Géza Anda (Hungarian p… ┆ [-0.013956, 0.007346, … 0.002309… │\n",
       "│ …      ┆ …                                 ┆ …                                 │\n",
       "│ 999995 ┆ Boomerang (Hanson album) Boomera… ┆ [-0.007003, -0.011693, … 0.01252… │\n",
       "│ 999996 ┆ Claud Schuster, 1st Baron Schust… ┆ [0.041402, -0.003655, … -0.01024… │\n",
       "│ 999997 ┆ Georgia Northeastern Railroad Th… ┆ [-0.010983, -0.000058, … 0.03183… │\n",
       "│ 999998 ┆ Music of Ukraine Ukrainian music… ┆ [-0.022814, -0.006859, … -0.0046… │\n",
       "│ 999999 ┆ Affix grammar over a finite latt… ┆ [-0.029692, 0.042943, … 0.014484… │\n",
       "└────────┴───────────────────────────────────┴───────────────────────────────────┘"
      ]
     },
     "execution_count": 6,
     "metadata": {},
     "output_type": "execute_result"
    }
   ],
   "source": [
    "df =df.select(pl.col(\"combined_text\"),pl.col(\"embeddings\").list.to_array(width=width).alias(\"embeddings\")).with_row_index(name=\"id\")\n",
    "df"
   ]
  },
  {
   "cell_type": "code",
   "execution_count": 17,
   "metadata": {},
   "outputs": [],
   "source": [
    "#break in two frames first 999 and last row\n",
    "num_rows = 10000\n",
    "vf = df.slice(0, num_rows-1)\n",
    "query = df.slice(num_rows-1, 1)\n",
    "query_embeddings = query[\"embeddings\"]"
   ]
  },
  {
   "cell_type": "code",
   "execution_count": 18,
   "metadata": {},
   "outputs": [
    {
     "name": "stdout",
     "output_type": "stream",
     "text": [
      "the plugin failed with message: cannot cast list type\n",
      "Error in knn\n"
     ]
    }
   ],
   "source": [
    "try:\n",
    "    knn = vf.select(\n",
    "        pl.col(\"id\"),\n",
    "        pl.col(\"id\").num.knn_ptwise(\n",
    "            pl.col('embeddings'), # Columns used as the coordinates in n-d space\n",
    "            k = 10, \n",
    "            dist = \"l2\", # actually this is squared l2\n",
    "            leaf_size = 40,\n",
    "            parallel = True\n",
    "        ).alias(\"top_k_neighbors\"),\n",
    "    )\n",
    "    print(knn)\n",
    "except Exception as e:\n",
    "    print(e)\n",
    "    print(\"Error in knn\")"
   ]
  },
  {
   "cell_type": "code",
   "execution_count": 19,
   "metadata": {},
   "outputs": [],
   "source": [
    "import polars_ds as pld\n"
   ]
  },
  {
   "cell_type": "code",
   "execution_count": 20,
   "metadata": {},
   "outputs": [
    {
     "name": "stdout",
     "output_type": "stream",
     "text": [
      "['embeddings_0', 'embeddings_1', 'embeddings_2', 'embeddings_3', 'embeddings_4', 'embeddings_5', 'embeddings_6', 'embeddings_7', 'embeddings_8', 'embeddings_9', 'embeddings_10', 'embeddings_11', 'embeddings_12', 'embeddings_13', 'embeddings_14', 'embeddings_15', 'embeddings_16', 'embeddings_17', 'embeddings_18', 'embeddings_19', 'embeddings_20', 'embeddings_21', 'embeddings_22', 'embeddings_23', 'embeddings_24', 'embeddings_25', 'embeddings_26', 'embeddings_27', 'embeddings_28', 'embeddings_29', 'embeddings_30', 'embeddings_31', 'embeddings_32', 'embeddings_33', 'embeddings_34', 'embeddings_35', 'embeddings_36', 'embeddings_37', 'embeddings_38', 'embeddings_39', 'embeddings_40', 'embeddings_41', 'embeddings_42', 'embeddings_43', 'embeddings_44', 'embeddings_45', 'embeddings_46', 'embeddings_47', 'embeddings_48', 'embeddings_49', 'embeddings_50', 'embeddings_51', 'embeddings_52', 'embeddings_53', 'embeddings_54', 'embeddings_55', 'embeddings_56', 'embeddings_57', 'embeddings_58', 'embeddings_59', 'embeddings_60', 'embeddings_61', 'embeddings_62', 'embeddings_63', 'embeddings_64', 'embeddings_65', 'embeddings_66', 'embeddings_67', 'embeddings_68', 'embeddings_69', 'embeddings_70', 'embeddings_71', 'embeddings_72', 'embeddings_73', 'embeddings_74', 'embeddings_75', 'embeddings_76', 'embeddings_77', 'embeddings_78', 'embeddings_79', 'embeddings_80', 'embeddings_81', 'embeddings_82', 'embeddings_83', 'embeddings_84', 'embeddings_85', 'embeddings_86', 'embeddings_87', 'embeddings_88', 'embeddings_89', 'embeddings_90', 'embeddings_91', 'embeddings_92', 'embeddings_93', 'embeddings_94', 'embeddings_95', 'embeddings_96', 'embeddings_97', 'embeddings_98', 'embeddings_99', 'embeddings_100', 'embeddings_101', 'embeddings_102', 'embeddings_103', 'embeddings_104', 'embeddings_105', 'embeddings_106', 'embeddings_107', 'embeddings_108', 'embeddings_109', 'embeddings_110', 'embeddings_111', 'embeddings_112', 'embeddings_113', 'embeddings_114', 'embeddings_115', 'embeddings_116', 'embeddings_117', 'embeddings_118', 'embeddings_119', 'embeddings_120', 'embeddings_121', 'embeddings_122', 'embeddings_123', 'embeddings_124', 'embeddings_125', 'embeddings_126', 'embeddings_127', 'embeddings_128', 'embeddings_129', 'embeddings_130', 'embeddings_131', 'embeddings_132', 'embeddings_133', 'embeddings_134', 'embeddings_135', 'embeddings_136', 'embeddings_137', 'embeddings_138', 'embeddings_139', 'embeddings_140', 'embeddings_141', 'embeddings_142', 'embeddings_143', 'embeddings_144', 'embeddings_145', 'embeddings_146', 'embeddings_147', 'embeddings_148', 'embeddings_149', 'embeddings_150', 'embeddings_151', 'embeddings_152', 'embeddings_153', 'embeddings_154', 'embeddings_155', 'embeddings_156', 'embeddings_157', 'embeddings_158', 'embeddings_159', 'embeddings_160', 'embeddings_161', 'embeddings_162', 'embeddings_163', 'embeddings_164', 'embeddings_165', 'embeddings_166', 'embeddings_167', 'embeddings_168', 'embeddings_169', 'embeddings_170', 'embeddings_171', 'embeddings_172', 'embeddings_173', 'embeddings_174', 'embeddings_175', 'embeddings_176', 'embeddings_177', 'embeddings_178', 'embeddings_179', 'embeddings_180', 'embeddings_181', 'embeddings_182', 'embeddings_183', 'embeddings_184', 'embeddings_185', 'embeddings_186', 'embeddings_187', 'embeddings_188', 'embeddings_189', 'embeddings_190', 'embeddings_191', 'embeddings_192', 'embeddings_193', 'embeddings_194', 'embeddings_195', 'embeddings_196', 'embeddings_197', 'embeddings_198', 'embeddings_199', 'embeddings_200', 'embeddings_201', 'embeddings_202', 'embeddings_203', 'embeddings_204', 'embeddings_205', 'embeddings_206', 'embeddings_207', 'embeddings_208', 'embeddings_209', 'embeddings_210', 'embeddings_211', 'embeddings_212', 'embeddings_213', 'embeddings_214', 'embeddings_215', 'embeddings_216', 'embeddings_217', 'embeddings_218', 'embeddings_219', 'embeddings_220', 'embeddings_221', 'embeddings_222', 'embeddings_223', 'embeddings_224', 'embeddings_225', 'embeddings_226', 'embeddings_227', 'embeddings_228', 'embeddings_229', 'embeddings_230', 'embeddings_231', 'embeddings_232', 'embeddings_233', 'embeddings_234', 'embeddings_235', 'embeddings_236', 'embeddings_237', 'embeddings_238', 'embeddings_239', 'embeddings_240', 'embeddings_241', 'embeddings_242', 'embeddings_243', 'embeddings_244', 'embeddings_245', 'embeddings_246', 'embeddings_247', 'embeddings_248', 'embeddings_249', 'embeddings_250', 'embeddings_251', 'embeddings_252', 'embeddings_253', 'embeddings_254', 'embeddings_255', 'embeddings_256', 'embeddings_257', 'embeddings_258', 'embeddings_259', 'embeddings_260', 'embeddings_261', 'embeddings_262', 'embeddings_263', 'embeddings_264', 'embeddings_265', 'embeddings_266', 'embeddings_267', 'embeddings_268', 'embeddings_269', 'embeddings_270', 'embeddings_271', 'embeddings_272', 'embeddings_273', 'embeddings_274', 'embeddings_275', 'embeddings_276', 'embeddings_277', 'embeddings_278', 'embeddings_279', 'embeddings_280', 'embeddings_281', 'embeddings_282', 'embeddings_283', 'embeddings_284', 'embeddings_285', 'embeddings_286', 'embeddings_287', 'embeddings_288', 'embeddings_289', 'embeddings_290', 'embeddings_291', 'embeddings_292', 'embeddings_293', 'embeddings_294', 'embeddings_295', 'embeddings_296', 'embeddings_297', 'embeddings_298', 'embeddings_299', 'embeddings_300', 'embeddings_301', 'embeddings_302', 'embeddings_303', 'embeddings_304', 'embeddings_305', 'embeddings_306', 'embeddings_307', 'embeddings_308', 'embeddings_309', 'embeddings_310', 'embeddings_311', 'embeddings_312', 'embeddings_313', 'embeddings_314', 'embeddings_315', 'embeddings_316', 'embeddings_317', 'embeddings_318', 'embeddings_319', 'embeddings_320', 'embeddings_321', 'embeddings_322', 'embeddings_323', 'embeddings_324', 'embeddings_325', 'embeddings_326', 'embeddings_327', 'embeddings_328', 'embeddings_329', 'embeddings_330', 'embeddings_331', 'embeddings_332', 'embeddings_333', 'embeddings_334', 'embeddings_335', 'embeddings_336', 'embeddings_337', 'embeddings_338', 'embeddings_339', 'embeddings_340', 'embeddings_341', 'embeddings_342', 'embeddings_343', 'embeddings_344', 'embeddings_345', 'embeddings_346', 'embeddings_347', 'embeddings_348', 'embeddings_349', 'embeddings_350', 'embeddings_351', 'embeddings_352', 'embeddings_353', 'embeddings_354', 'embeddings_355', 'embeddings_356', 'embeddings_357', 'embeddings_358', 'embeddings_359', 'embeddings_360', 'embeddings_361', 'embeddings_362', 'embeddings_363', 'embeddings_364', 'embeddings_365', 'embeddings_366', 'embeddings_367', 'embeddings_368', 'embeddings_369', 'embeddings_370', 'embeddings_371', 'embeddings_372', 'embeddings_373', 'embeddings_374', 'embeddings_375', 'embeddings_376', 'embeddings_377', 'embeddings_378', 'embeddings_379', 'embeddings_380', 'embeddings_381', 'embeddings_382', 'embeddings_383', 'embeddings_384', 'embeddings_385', 'embeddings_386', 'embeddings_387', 'embeddings_388', 'embeddings_389', 'embeddings_390', 'embeddings_391', 'embeddings_392', 'embeddings_393', 'embeddings_394', 'embeddings_395', 'embeddings_396', 'embeddings_397', 'embeddings_398', 'embeddings_399', 'embeddings_400', 'embeddings_401', 'embeddings_402', 'embeddings_403', 'embeddings_404', 'embeddings_405', 'embeddings_406', 'embeddings_407', 'embeddings_408', 'embeddings_409', 'embeddings_410', 'embeddings_411', 'embeddings_412', 'embeddings_413', 'embeddings_414', 'embeddings_415', 'embeddings_416', 'embeddings_417', 'embeddings_418', 'embeddings_419', 'embeddings_420', 'embeddings_421', 'embeddings_422', 'embeddings_423', 'embeddings_424', 'embeddings_425', 'embeddings_426', 'embeddings_427', 'embeddings_428', 'embeddings_429', 'embeddings_430', 'embeddings_431', 'embeddings_432', 'embeddings_433', 'embeddings_434', 'embeddings_435', 'embeddings_436', 'embeddings_437', 'embeddings_438', 'embeddings_439', 'embeddings_440', 'embeddings_441', 'embeddings_442', 'embeddings_443', 'embeddings_444', 'embeddings_445', 'embeddings_446', 'embeddings_447', 'embeddings_448', 'embeddings_449', 'embeddings_450', 'embeddings_451', 'embeddings_452', 'embeddings_453', 'embeddings_454', 'embeddings_455', 'embeddings_456', 'embeddings_457', 'embeddings_458', 'embeddings_459', 'embeddings_460', 'embeddings_461', 'embeddings_462', 'embeddings_463', 'embeddings_464', 'embeddings_465', 'embeddings_466', 'embeddings_467', 'embeddings_468', 'embeddings_469', 'embeddings_470', 'embeddings_471', 'embeddings_472', 'embeddings_473', 'embeddings_474', 'embeddings_475', 'embeddings_476', 'embeddings_477', 'embeddings_478', 'embeddings_479', 'embeddings_480', 'embeddings_481', 'embeddings_482', 'embeddings_483', 'embeddings_484', 'embeddings_485', 'embeddings_486', 'embeddings_487', 'embeddings_488', 'embeddings_489', 'embeddings_490', 'embeddings_491', 'embeddings_492', 'embeddings_493', 'embeddings_494', 'embeddings_495', 'embeddings_496', 'embeddings_497', 'embeddings_498', 'embeddings_499', 'embeddings_500', 'embeddings_501', 'embeddings_502', 'embeddings_503', 'embeddings_504', 'embeddings_505', 'embeddings_506', 'embeddings_507', 'embeddings_508', 'embeddings_509', 'embeddings_510', 'embeddings_511', 'embeddings_512', 'embeddings_513', 'embeddings_514', 'embeddings_515', 'embeddings_516', 'embeddings_517', 'embeddings_518', 'embeddings_519', 'embeddings_520', 'embeddings_521', 'embeddings_522', 'embeddings_523', 'embeddings_524', 'embeddings_525', 'embeddings_526', 'embeddings_527', 'embeddings_528', 'embeddings_529', 'embeddings_530', 'embeddings_531', 'embeddings_532', 'embeddings_533', 'embeddings_534', 'embeddings_535', 'embeddings_536', 'embeddings_537', 'embeddings_538', 'embeddings_539', 'embeddings_540', 'embeddings_541', 'embeddings_542', 'embeddings_543', 'embeddings_544', 'embeddings_545', 'embeddings_546', 'embeddings_547', 'embeddings_548', 'embeddings_549', 'embeddings_550', 'embeddings_551', 'embeddings_552', 'embeddings_553', 'embeddings_554', 'embeddings_555', 'embeddings_556', 'embeddings_557', 'embeddings_558', 'embeddings_559', 'embeddings_560', 'embeddings_561', 'embeddings_562', 'embeddings_563', 'embeddings_564', 'embeddings_565', 'embeddings_566', 'embeddings_567', 'embeddings_568', 'embeddings_569', 'embeddings_570', 'embeddings_571', 'embeddings_572', 'embeddings_573', 'embeddings_574', 'embeddings_575', 'embeddings_576', 'embeddings_577', 'embeddings_578', 'embeddings_579', 'embeddings_580', 'embeddings_581', 'embeddings_582', 'embeddings_583', 'embeddings_584', 'embeddings_585', 'embeddings_586', 'embeddings_587', 'embeddings_588', 'embeddings_589', 'embeddings_590', 'embeddings_591', 'embeddings_592', 'embeddings_593', 'embeddings_594', 'embeddings_595', 'embeddings_596', 'embeddings_597', 'embeddings_598', 'embeddings_599', 'embeddings_600', 'embeddings_601', 'embeddings_602', 'embeddings_603', 'embeddings_604', 'embeddings_605', 'embeddings_606', 'embeddings_607', 'embeddings_608', 'embeddings_609', 'embeddings_610', 'embeddings_611', 'embeddings_612', 'embeddings_613', 'embeddings_614', 'embeddings_615', 'embeddings_616', 'embeddings_617', 'embeddings_618', 'embeddings_619', 'embeddings_620', 'embeddings_621', 'embeddings_622', 'embeddings_623', 'embeddings_624', 'embeddings_625', 'embeddings_626', 'embeddings_627', 'embeddings_628', 'embeddings_629', 'embeddings_630', 'embeddings_631', 'embeddings_632', 'embeddings_633', 'embeddings_634', 'embeddings_635', 'embeddings_636', 'embeddings_637', 'embeddings_638', 'embeddings_639', 'embeddings_640', 'embeddings_641', 'embeddings_642', 'embeddings_643', 'embeddings_644', 'embeddings_645', 'embeddings_646', 'embeddings_647', 'embeddings_648', 'embeddings_649', 'embeddings_650', 'embeddings_651', 'embeddings_652', 'embeddings_653', 'embeddings_654', 'embeddings_655', 'embeddings_656', 'embeddings_657', 'embeddings_658', 'embeddings_659', 'embeddings_660', 'embeddings_661', 'embeddings_662', 'embeddings_663', 'embeddings_664', 'embeddings_665', 'embeddings_666', 'embeddings_667', 'embeddings_668', 'embeddings_669', 'embeddings_670', 'embeddings_671', 'embeddings_672', 'embeddings_673', 'embeddings_674', 'embeddings_675', 'embeddings_676', 'embeddings_677', 'embeddings_678', 'embeddings_679', 'embeddings_680', 'embeddings_681', 'embeddings_682', 'embeddings_683', 'embeddings_684', 'embeddings_685', 'embeddings_686', 'embeddings_687', 'embeddings_688', 'embeddings_689', 'embeddings_690', 'embeddings_691', 'embeddings_692', 'embeddings_693', 'embeddings_694', 'embeddings_695', 'embeddings_696', 'embeddings_697', 'embeddings_698', 'embeddings_699', 'embeddings_700', 'embeddings_701', 'embeddings_702', 'embeddings_703', 'embeddings_704', 'embeddings_705', 'embeddings_706', 'embeddings_707', 'embeddings_708', 'embeddings_709', 'embeddings_710', 'embeddings_711', 'embeddings_712', 'embeddings_713', 'embeddings_714', 'embeddings_715', 'embeddings_716', 'embeddings_717', 'embeddings_718', 'embeddings_719', 'embeddings_720', 'embeddings_721', 'embeddings_722', 'embeddings_723', 'embeddings_724', 'embeddings_725', 'embeddings_726', 'embeddings_727', 'embeddings_728', 'embeddings_729', 'embeddings_730', 'embeddings_731', 'embeddings_732', 'embeddings_733', 'embeddings_734', 'embeddings_735', 'embeddings_736', 'embeddings_737', 'embeddings_738', 'embeddings_739', 'embeddings_740', 'embeddings_741', 'embeddings_742', 'embeddings_743', 'embeddings_744', 'embeddings_745', 'embeddings_746', 'embeddings_747', 'embeddings_748', 'embeddings_749', 'embeddings_750', 'embeddings_751', 'embeddings_752', 'embeddings_753', 'embeddings_754', 'embeddings_755', 'embeddings_756', 'embeddings_757', 'embeddings_758', 'embeddings_759', 'embeddings_760', 'embeddings_761', 'embeddings_762', 'embeddings_763', 'embeddings_764', 'embeddings_765', 'embeddings_766', 'embeddings_767', 'embeddings_768', 'embeddings_769', 'embeddings_770', 'embeddings_771', 'embeddings_772', 'embeddings_773', 'embeddings_774', 'embeddings_775', 'embeddings_776', 'embeddings_777', 'embeddings_778', 'embeddings_779', 'embeddings_780', 'embeddings_781', 'embeddings_782', 'embeddings_783', 'embeddings_784', 'embeddings_785', 'embeddings_786', 'embeddings_787', 'embeddings_788', 'embeddings_789', 'embeddings_790', 'embeddings_791', 'embeddings_792', 'embeddings_793', 'embeddings_794', 'embeddings_795', 'embeddings_796', 'embeddings_797', 'embeddings_798', 'embeddings_799', 'embeddings_800', 'embeddings_801', 'embeddings_802', 'embeddings_803', 'embeddings_804', 'embeddings_805', 'embeddings_806', 'embeddings_807', 'embeddings_808', 'embeddings_809', 'embeddings_810', 'embeddings_811', 'embeddings_812', 'embeddings_813', 'embeddings_814', 'embeddings_815', 'embeddings_816', 'embeddings_817', 'embeddings_818', 'embeddings_819', 'embeddings_820', 'embeddings_821', 'embeddings_822', 'embeddings_823', 'embeddings_824', 'embeddings_825', 'embeddings_826', 'embeddings_827', 'embeddings_828', 'embeddings_829', 'embeddings_830', 'embeddings_831', 'embeddings_832', 'embeddings_833', 'embeddings_834', 'embeddings_835', 'embeddings_836', 'embeddings_837', 'embeddings_838', 'embeddings_839', 'embeddings_840', 'embeddings_841', 'embeddings_842', 'embeddings_843', 'embeddings_844', 'embeddings_845', 'embeddings_846', 'embeddings_847', 'embeddings_848', 'embeddings_849', 'embeddings_850', 'embeddings_851', 'embeddings_852', 'embeddings_853', 'embeddings_854', 'embeddings_855', 'embeddings_856', 'embeddings_857', 'embeddings_858', 'embeddings_859', 'embeddings_860', 'embeddings_861', 'embeddings_862', 'embeddings_863', 'embeddings_864', 'embeddings_865', 'embeddings_866', 'embeddings_867', 'embeddings_868', 'embeddings_869', 'embeddings_870', 'embeddings_871', 'embeddings_872', 'embeddings_873', 'embeddings_874', 'embeddings_875', 'embeddings_876', 'embeddings_877', 'embeddings_878', 'embeddings_879', 'embeddings_880', 'embeddings_881', 'embeddings_882', 'embeddings_883', 'embeddings_884', 'embeddings_885', 'embeddings_886', 'embeddings_887', 'embeddings_888', 'embeddings_889', 'embeddings_890', 'embeddings_891', 'embeddings_892', 'embeddings_893', 'embeddings_894', 'embeddings_895', 'embeddings_896', 'embeddings_897', 'embeddings_898', 'embeddings_899', 'embeddings_900', 'embeddings_901', 'embeddings_902', 'embeddings_903', 'embeddings_904', 'embeddings_905', 'embeddings_906', 'embeddings_907', 'embeddings_908', 'embeddings_909', 'embeddings_910', 'embeddings_911', 'embeddings_912', 'embeddings_913', 'embeddings_914', 'embeddings_915', 'embeddings_916', 'embeddings_917', 'embeddings_918', 'embeddings_919', 'embeddings_920', 'embeddings_921', 'embeddings_922', 'embeddings_923', 'embeddings_924', 'embeddings_925', 'embeddings_926', 'embeddings_927', 'embeddings_928', 'embeddings_929', 'embeddings_930', 'embeddings_931', 'embeddings_932', 'embeddings_933', 'embeddings_934', 'embeddings_935', 'embeddings_936', 'embeddings_937', 'embeddings_938', 'embeddings_939', 'embeddings_940', 'embeddings_941', 'embeddings_942', 'embeddings_943', 'embeddings_944', 'embeddings_945', 'embeddings_946', 'embeddings_947', 'embeddings_948', 'embeddings_949', 'embeddings_950', 'embeddings_951', 'embeddings_952', 'embeddings_953', 'embeddings_954', 'embeddings_955', 'embeddings_956', 'embeddings_957', 'embeddings_958', 'embeddings_959', 'embeddings_960', 'embeddings_961', 'embeddings_962', 'embeddings_963', 'embeddings_964', 'embeddings_965', 'embeddings_966', 'embeddings_967', 'embeddings_968', 'embeddings_969', 'embeddings_970', 'embeddings_971', 'embeddings_972', 'embeddings_973', 'embeddings_974', 'embeddings_975', 'embeddings_976', 'embeddings_977', 'embeddings_978', 'embeddings_979', 'embeddings_980', 'embeddings_981', 'embeddings_982', 'embeddings_983', 'embeddings_984', 'embeddings_985', 'embeddings_986', 'embeddings_987', 'embeddings_988', 'embeddings_989', 'embeddings_990', 'embeddings_991', 'embeddings_992', 'embeddings_993', 'embeddings_994', 'embeddings_995', 'embeddings_996', 'embeddings_997', 'embeddings_998', 'embeddings_999', 'embeddings_1000', 'embeddings_1001', 'embeddings_1002', 'embeddings_1003', 'embeddings_1004', 'embeddings_1005', 'embeddings_1006', 'embeddings_1007', 'embeddings_1008', 'embeddings_1009', 'embeddings_1010', 'embeddings_1011', 'embeddings_1012', 'embeddings_1013', 'embeddings_1014', 'embeddings_1015', 'embeddings_1016', 'embeddings_1017', 'embeddings_1018', 'embeddings_1019', 'embeddings_1020', 'embeddings_1021', 'embeddings_1022', 'embeddings_1023', 'embeddings_1024', 'embeddings_1025', 'embeddings_1026', 'embeddings_1027', 'embeddings_1028', 'embeddings_1029', 'embeddings_1030', 'embeddings_1031', 'embeddings_1032', 'embeddings_1033', 'embeddings_1034', 'embeddings_1035', 'embeddings_1036', 'embeddings_1037', 'embeddings_1038', 'embeddings_1039', 'embeddings_1040', 'embeddings_1041', 'embeddings_1042', 'embeddings_1043', 'embeddings_1044', 'embeddings_1045', 'embeddings_1046', 'embeddings_1047', 'embeddings_1048', 'embeddings_1049', 'embeddings_1050', 'embeddings_1051', 'embeddings_1052', 'embeddings_1053', 'embeddings_1054', 'embeddings_1055', 'embeddings_1056', 'embeddings_1057', 'embeddings_1058', 'embeddings_1059', 'embeddings_1060', 'embeddings_1061', 'embeddings_1062', 'embeddings_1063', 'embeddings_1064', 'embeddings_1065', 'embeddings_1066', 'embeddings_1067', 'embeddings_1068', 'embeddings_1069', 'embeddings_1070', 'embeddings_1071', 'embeddings_1072', 'embeddings_1073', 'embeddings_1074', 'embeddings_1075', 'embeddings_1076', 'embeddings_1077', 'embeddings_1078', 'embeddings_1079', 'embeddings_1080', 'embeddings_1081', 'embeddings_1082', 'embeddings_1083', 'embeddings_1084', 'embeddings_1085', 'embeddings_1086', 'embeddings_1087', 'embeddings_1088', 'embeddings_1089', 'embeddings_1090', 'embeddings_1091', 'embeddings_1092', 'embeddings_1093', 'embeddings_1094', 'embeddings_1095', 'embeddings_1096', 'embeddings_1097', 'embeddings_1098', 'embeddings_1099', 'embeddings_1100', 'embeddings_1101', 'embeddings_1102', 'embeddings_1103', 'embeddings_1104', 'embeddings_1105', 'embeddings_1106', 'embeddings_1107', 'embeddings_1108', 'embeddings_1109', 'embeddings_1110', 'embeddings_1111', 'embeddings_1112', 'embeddings_1113', 'embeddings_1114', 'embeddings_1115', 'embeddings_1116', 'embeddings_1117', 'embeddings_1118', 'embeddings_1119', 'embeddings_1120', 'embeddings_1121', 'embeddings_1122', 'embeddings_1123', 'embeddings_1124', 'embeddings_1125', 'embeddings_1126', 'embeddings_1127', 'embeddings_1128', 'embeddings_1129', 'embeddings_1130', 'embeddings_1131', 'embeddings_1132', 'embeddings_1133', 'embeddings_1134', 'embeddings_1135', 'embeddings_1136', 'embeddings_1137', 'embeddings_1138', 'embeddings_1139', 'embeddings_1140', 'embeddings_1141', 'embeddings_1142', 'embeddings_1143', 'embeddings_1144', 'embeddings_1145', 'embeddings_1146', 'embeddings_1147', 'embeddings_1148', 'embeddings_1149', 'embeddings_1150', 'embeddings_1151', 'embeddings_1152', 'embeddings_1153', 'embeddings_1154', 'embeddings_1155', 'embeddings_1156', 'embeddings_1157', 'embeddings_1158', 'embeddings_1159', 'embeddings_1160', 'embeddings_1161', 'embeddings_1162', 'embeddings_1163', 'embeddings_1164', 'embeddings_1165', 'embeddings_1166', 'embeddings_1167', 'embeddings_1168', 'embeddings_1169', 'embeddings_1170', 'embeddings_1171', 'embeddings_1172', 'embeddings_1173', 'embeddings_1174', 'embeddings_1175', 'embeddings_1176', 'embeddings_1177', 'embeddings_1178', 'embeddings_1179', 'embeddings_1180', 'embeddings_1181', 'embeddings_1182', 'embeddings_1183', 'embeddings_1184', 'embeddings_1185', 'embeddings_1186', 'embeddings_1187', 'embeddings_1188', 'embeddings_1189', 'embeddings_1190', 'embeddings_1191', 'embeddings_1192', 'embeddings_1193', 'embeddings_1194', 'embeddings_1195', 'embeddings_1196', 'embeddings_1197', 'embeddings_1198', 'embeddings_1199', 'embeddings_1200', 'embeddings_1201', 'embeddings_1202', 'embeddings_1203', 'embeddings_1204', 'embeddings_1205', 'embeddings_1206', 'embeddings_1207', 'embeddings_1208', 'embeddings_1209', 'embeddings_1210', 'embeddings_1211', 'embeddings_1212', 'embeddings_1213', 'embeddings_1214', 'embeddings_1215', 'embeddings_1216', 'embeddings_1217', 'embeddings_1218', 'embeddings_1219', 'embeddings_1220', 'embeddings_1221', 'embeddings_1222', 'embeddings_1223', 'embeddings_1224', 'embeddings_1225', 'embeddings_1226', 'embeddings_1227', 'embeddings_1228', 'embeddings_1229', 'embeddings_1230', 'embeddings_1231', 'embeddings_1232', 'embeddings_1233', 'embeddings_1234', 'embeddings_1235', 'embeddings_1236', 'embeddings_1237', 'embeddings_1238', 'embeddings_1239', 'embeddings_1240', 'embeddings_1241', 'embeddings_1242', 'embeddings_1243', 'embeddings_1244', 'embeddings_1245', 'embeddings_1246', 'embeddings_1247', 'embeddings_1248', 'embeddings_1249', 'embeddings_1250', 'embeddings_1251', 'embeddings_1252', 'embeddings_1253', 'embeddings_1254', 'embeddings_1255', 'embeddings_1256', 'embeddings_1257', 'embeddings_1258', 'embeddings_1259', 'embeddings_1260', 'embeddings_1261', 'embeddings_1262', 'embeddings_1263', 'embeddings_1264', 'embeddings_1265', 'embeddings_1266', 'embeddings_1267', 'embeddings_1268', 'embeddings_1269', 'embeddings_1270', 'embeddings_1271', 'embeddings_1272', 'embeddings_1273', 'embeddings_1274', 'embeddings_1275', 'embeddings_1276', 'embeddings_1277', 'embeddings_1278', 'embeddings_1279', 'embeddings_1280', 'embeddings_1281', 'embeddings_1282', 'embeddings_1283', 'embeddings_1284', 'embeddings_1285', 'embeddings_1286', 'embeddings_1287', 'embeddings_1288', 'embeddings_1289', 'embeddings_1290', 'embeddings_1291', 'embeddings_1292', 'embeddings_1293', 'embeddings_1294', 'embeddings_1295', 'embeddings_1296', 'embeddings_1297', 'embeddings_1298', 'embeddings_1299', 'embeddings_1300', 'embeddings_1301', 'embeddings_1302', 'embeddings_1303', 'embeddings_1304', 'embeddings_1305', 'embeddings_1306', 'embeddings_1307', 'embeddings_1308', 'embeddings_1309', 'embeddings_1310', 'embeddings_1311', 'embeddings_1312', 'embeddings_1313', 'embeddings_1314', 'embeddings_1315', 'embeddings_1316', 'embeddings_1317', 'embeddings_1318', 'embeddings_1319', 'embeddings_1320', 'embeddings_1321', 'embeddings_1322', 'embeddings_1323', 'embeddings_1324', 'embeddings_1325', 'embeddings_1326', 'embeddings_1327', 'embeddings_1328', 'embeddings_1329', 'embeddings_1330', 'embeddings_1331', 'embeddings_1332', 'embeddings_1333', 'embeddings_1334', 'embeddings_1335', 'embeddings_1336', 'embeddings_1337', 'embeddings_1338', 'embeddings_1339', 'embeddings_1340', 'embeddings_1341', 'embeddings_1342', 'embeddings_1343', 'embeddings_1344', 'embeddings_1345', 'embeddings_1346', 'embeddings_1347', 'embeddings_1348', 'embeddings_1349', 'embeddings_1350', 'embeddings_1351', 'embeddings_1352', 'embeddings_1353', 'embeddings_1354', 'embeddings_1355', 'embeddings_1356', 'embeddings_1357', 'embeddings_1358', 'embeddings_1359', 'embeddings_1360', 'embeddings_1361', 'embeddings_1362', 'embeddings_1363', 'embeddings_1364', 'embeddings_1365', 'embeddings_1366', 'embeddings_1367', 'embeddings_1368', 'embeddings_1369', 'embeddings_1370', 'embeddings_1371', 'embeddings_1372', 'embeddings_1373', 'embeddings_1374', 'embeddings_1375', 'embeddings_1376', 'embeddings_1377', 'embeddings_1378', 'embeddings_1379', 'embeddings_1380', 'embeddings_1381', 'embeddings_1382', 'embeddings_1383', 'embeddings_1384', 'embeddings_1385', 'embeddings_1386', 'embeddings_1387', 'embeddings_1388', 'embeddings_1389', 'embeddings_1390', 'embeddings_1391', 'embeddings_1392', 'embeddings_1393', 'embeddings_1394', 'embeddings_1395', 'embeddings_1396', 'embeddings_1397', 'embeddings_1398', 'embeddings_1399', 'embeddings_1400', 'embeddings_1401', 'embeddings_1402', 'embeddings_1403', 'embeddings_1404', 'embeddings_1405', 'embeddings_1406', 'embeddings_1407', 'embeddings_1408', 'embeddings_1409', 'embeddings_1410', 'embeddings_1411', 'embeddings_1412', 'embeddings_1413', 'embeddings_1414', 'embeddings_1415', 'embeddings_1416', 'embeddings_1417', 'embeddings_1418', 'embeddings_1419', 'embeddings_1420', 'embeddings_1421', 'embeddings_1422', 'embeddings_1423', 'embeddings_1424', 'embeddings_1425', 'embeddings_1426', 'embeddings_1427', 'embeddings_1428', 'embeddings_1429', 'embeddings_1430', 'embeddings_1431', 'embeddings_1432', 'embeddings_1433', 'embeddings_1434', 'embeddings_1435', 'embeddings_1436', 'embeddings_1437', 'embeddings_1438', 'embeddings_1439', 'embeddings_1440', 'embeddings_1441', 'embeddings_1442', 'embeddings_1443', 'embeddings_1444', 'embeddings_1445', 'embeddings_1446', 'embeddings_1447', 'embeddings_1448', 'embeddings_1449', 'embeddings_1450', 'embeddings_1451', 'embeddings_1452', 'embeddings_1453', 'embeddings_1454', 'embeddings_1455', 'embeddings_1456', 'embeddings_1457', 'embeddings_1458', 'embeddings_1459', 'embeddings_1460', 'embeddings_1461', 'embeddings_1462', 'embeddings_1463', 'embeddings_1464', 'embeddings_1465', 'embeddings_1466', 'embeddings_1467', 'embeddings_1468', 'embeddings_1469', 'embeddings_1470', 'embeddings_1471', 'embeddings_1472', 'embeddings_1473', 'embeddings_1474', 'embeddings_1475', 'embeddings_1476', 'embeddings_1477', 'embeddings_1478', 'embeddings_1479', 'embeddings_1480', 'embeddings_1481', 'embeddings_1482', 'embeddings_1483', 'embeddings_1484', 'embeddings_1485', 'embeddings_1486', 'embeddings_1487', 'embeddings_1488', 'embeddings_1489', 'embeddings_1490', 'embeddings_1491', 'embeddings_1492', 'embeddings_1493', 'embeddings_1494', 'embeddings_1495', 'embeddings_1496', 'embeddings_1497', 'embeddings_1498', 'embeddings_1499', 'embeddings_1500', 'embeddings_1501', 'embeddings_1502', 'embeddings_1503', 'embeddings_1504', 'embeddings_1505', 'embeddings_1506', 'embeddings_1507', 'embeddings_1508', 'embeddings_1509', 'embeddings_1510', 'embeddings_1511', 'embeddings_1512', 'embeddings_1513', 'embeddings_1514', 'embeddings_1515', 'embeddings_1516', 'embeddings_1517', 'embeddings_1518', 'embeddings_1519', 'embeddings_1520', 'embeddings_1521', 'embeddings_1522', 'embeddings_1523', 'embeddings_1524', 'embeddings_1525', 'embeddings_1526', 'embeddings_1527', 'embeddings_1528', 'embeddings_1529', 'embeddings_1530', 'embeddings_1531', 'embeddings_1532', 'embeddings_1533', 'embeddings_1534', 'embeddings_1535', 'embeddings_1536', 'embeddings_1537', 'embeddings_1538', 'embeddings_1539', 'embeddings_1540', 'embeddings_1541', 'embeddings_1542', 'embeddings_1543', 'embeddings_1544', 'embeddings_1545', 'embeddings_1546', 'embeddings_1547', 'embeddings_1548', 'embeddings_1549', 'embeddings_1550', 'embeddings_1551', 'embeddings_1552', 'embeddings_1553', 'embeddings_1554', 'embeddings_1555', 'embeddings_1556', 'embeddings_1557', 'embeddings_1558', 'embeddings_1559', 'embeddings_1560', 'embeddings_1561', 'embeddings_1562', 'embeddings_1563', 'embeddings_1564', 'embeddings_1565', 'embeddings_1566', 'embeddings_1567', 'embeddings_1568', 'embeddings_1569', 'embeddings_1570', 'embeddings_1571', 'embeddings_1572', 'embeddings_1573', 'embeddings_1574', 'embeddings_1575', 'embeddings_1576', 'embeddings_1577', 'embeddings_1578', 'embeddings_1579', 'embeddings_1580', 'embeddings_1581', 'embeddings_1582', 'embeddings_1583', 'embeddings_1584', 'embeddings_1585', 'embeddings_1586', 'embeddings_1587', 'embeddings_1588', 'embeddings_1589', 'embeddings_1590', 'embeddings_1591', 'embeddings_1592', 'embeddings_1593', 'embeddings_1594', 'embeddings_1595', 'embeddings_1596', 'embeddings_1597', 'embeddings_1598', 'embeddings_1599', 'embeddings_1600', 'embeddings_1601', 'embeddings_1602', 'embeddings_1603', 'embeddings_1604', 'embeddings_1605', 'embeddings_1606', 'embeddings_1607', 'embeddings_1608', 'embeddings_1609', 'embeddings_1610', 'embeddings_1611', 'embeddings_1612', 'embeddings_1613', 'embeddings_1614', 'embeddings_1615', 'embeddings_1616', 'embeddings_1617', 'embeddings_1618', 'embeddings_1619', 'embeddings_1620', 'embeddings_1621', 'embeddings_1622', 'embeddings_1623', 'embeddings_1624', 'embeddings_1625', 'embeddings_1626', 'embeddings_1627', 'embeddings_1628', 'embeddings_1629', 'embeddings_1630', 'embeddings_1631', 'embeddings_1632', 'embeddings_1633', 'embeddings_1634', 'embeddings_1635', 'embeddings_1636', 'embeddings_1637', 'embeddings_1638', 'embeddings_1639', 'embeddings_1640', 'embeddings_1641', 'embeddings_1642', 'embeddings_1643', 'embeddings_1644', 'embeddings_1645', 'embeddings_1646', 'embeddings_1647', 'embeddings_1648', 'embeddings_1649', 'embeddings_1650', 'embeddings_1651', 'embeddings_1652', 'embeddings_1653', 'embeddings_1654', 'embeddings_1655', 'embeddings_1656', 'embeddings_1657', 'embeddings_1658', 'embeddings_1659', 'embeddings_1660', 'embeddings_1661', 'embeddings_1662', 'embeddings_1663', 'embeddings_1664', 'embeddings_1665', 'embeddings_1666', 'embeddings_1667', 'embeddings_1668', 'embeddings_1669', 'embeddings_1670', 'embeddings_1671', 'embeddings_1672', 'embeddings_1673', 'embeddings_1674', 'embeddings_1675', 'embeddings_1676', 'embeddings_1677', 'embeddings_1678', 'embeddings_1679', 'embeddings_1680', 'embeddings_1681', 'embeddings_1682', 'embeddings_1683', 'embeddings_1684', 'embeddings_1685', 'embeddings_1686', 'embeddings_1687', 'embeddings_1688', 'embeddings_1689', 'embeddings_1690', 'embeddings_1691', 'embeddings_1692', 'embeddings_1693', 'embeddings_1694', 'embeddings_1695', 'embeddings_1696', 'embeddings_1697', 'embeddings_1698', 'embeddings_1699', 'embeddings_1700', 'embeddings_1701', 'embeddings_1702', 'embeddings_1703', 'embeddings_1704', 'embeddings_1705', 'embeddings_1706', 'embeddings_1707', 'embeddings_1708', 'embeddings_1709', 'embeddings_1710', 'embeddings_1711', 'embeddings_1712', 'embeddings_1713', 'embeddings_1714', 'embeddings_1715', 'embeddings_1716', 'embeddings_1717', 'embeddings_1718', 'embeddings_1719', 'embeddings_1720', 'embeddings_1721', 'embeddings_1722', 'embeddings_1723', 'embeddings_1724', 'embeddings_1725', 'embeddings_1726', 'embeddings_1727', 'embeddings_1728', 'embeddings_1729', 'embeddings_1730', 'embeddings_1731', 'embeddings_1732', 'embeddings_1733', 'embeddings_1734', 'embeddings_1735', 'embeddings_1736', 'embeddings_1737', 'embeddings_1738', 'embeddings_1739', 'embeddings_1740', 'embeddings_1741', 'embeddings_1742', 'embeddings_1743', 'embeddings_1744', 'embeddings_1745', 'embeddings_1746', 'embeddings_1747', 'embeddings_1748', 'embeddings_1749', 'embeddings_1750', 'embeddings_1751', 'embeddings_1752', 'embeddings_1753', 'embeddings_1754', 'embeddings_1755', 'embeddings_1756', 'embeddings_1757', 'embeddings_1758', 'embeddings_1759', 'embeddings_1760', 'embeddings_1761', 'embeddings_1762', 'embeddings_1763', 'embeddings_1764', 'embeddings_1765', 'embeddings_1766', 'embeddings_1767', 'embeddings_1768', 'embeddings_1769', 'embeddings_1770', 'embeddings_1771', 'embeddings_1772', 'embeddings_1773', 'embeddings_1774', 'embeddings_1775', 'embeddings_1776', 'embeddings_1777', 'embeddings_1778', 'embeddings_1779', 'embeddings_1780', 'embeddings_1781', 'embeddings_1782', 'embeddings_1783', 'embeddings_1784', 'embeddings_1785', 'embeddings_1786', 'embeddings_1787', 'embeddings_1788', 'embeddings_1789', 'embeddings_1790', 'embeddings_1791', 'embeddings_1792', 'embeddings_1793', 'embeddings_1794', 'embeddings_1795', 'embeddings_1796', 'embeddings_1797', 'embeddings_1798', 'embeddings_1799', 'embeddings_1800', 'embeddings_1801', 'embeddings_1802', 'embeddings_1803', 'embeddings_1804', 'embeddings_1805', 'embeddings_1806', 'embeddings_1807', 'embeddings_1808', 'embeddings_1809', 'embeddings_1810', 'embeddings_1811', 'embeddings_1812', 'embeddings_1813', 'embeddings_1814', 'embeddings_1815', 'embeddings_1816', 'embeddings_1817', 'embeddings_1818', 'embeddings_1819', 'embeddings_1820', 'embeddings_1821', 'embeddings_1822', 'embeddings_1823', 'embeddings_1824', 'embeddings_1825', 'embeddings_1826', 'embeddings_1827', 'embeddings_1828', 'embeddings_1829', 'embeddings_1830', 'embeddings_1831', 'embeddings_1832', 'embeddings_1833', 'embeddings_1834', 'embeddings_1835', 'embeddings_1836', 'embeddings_1837', 'embeddings_1838', 'embeddings_1839', 'embeddings_1840', 'embeddings_1841', 'embeddings_1842', 'embeddings_1843', 'embeddings_1844', 'embeddings_1845', 'embeddings_1846', 'embeddings_1847', 'embeddings_1848', 'embeddings_1849', 'embeddings_1850', 'embeddings_1851', 'embeddings_1852', 'embeddings_1853', 'embeddings_1854', 'embeddings_1855', 'embeddings_1856', 'embeddings_1857', 'embeddings_1858', 'embeddings_1859', 'embeddings_1860', 'embeddings_1861', 'embeddings_1862', 'embeddings_1863', 'embeddings_1864', 'embeddings_1865', 'embeddings_1866', 'embeddings_1867', 'embeddings_1868', 'embeddings_1869', 'embeddings_1870', 'embeddings_1871', 'embeddings_1872', 'embeddings_1873', 'embeddings_1874', 'embeddings_1875', 'embeddings_1876', 'embeddings_1877', 'embeddings_1878', 'embeddings_1879', 'embeddings_1880', 'embeddings_1881', 'embeddings_1882', 'embeddings_1883', 'embeddings_1884', 'embeddings_1885', 'embeddings_1886', 'embeddings_1887', 'embeddings_1888', 'embeddings_1889', 'embeddings_1890', 'embeddings_1891', 'embeddings_1892', 'embeddings_1893', 'embeddings_1894', 'embeddings_1895', 'embeddings_1896', 'embeddings_1897', 'embeddings_1898', 'embeddings_1899', 'embeddings_1900', 'embeddings_1901', 'embeddings_1902', 'embeddings_1903', 'embeddings_1904', 'embeddings_1905', 'embeddings_1906', 'embeddings_1907', 'embeddings_1908', 'embeddings_1909', 'embeddings_1910', 'embeddings_1911', 'embeddings_1912', 'embeddings_1913', 'embeddings_1914', 'embeddings_1915', 'embeddings_1916', 'embeddings_1917', 'embeddings_1918', 'embeddings_1919', 'embeddings_1920', 'embeddings_1921', 'embeddings_1922', 'embeddings_1923', 'embeddings_1924', 'embeddings_1925', 'embeddings_1926', 'embeddings_1927', 'embeddings_1928', 'embeddings_1929', 'embeddings_1930', 'embeddings_1931', 'embeddings_1932', 'embeddings_1933', 'embeddings_1934', 'embeddings_1935', 'embeddings_1936', 'embeddings_1937', 'embeddings_1938', 'embeddings_1939', 'embeddings_1940', 'embeddings_1941', 'embeddings_1942', 'embeddings_1943', 'embeddings_1944', 'embeddings_1945', 'embeddings_1946', 'embeddings_1947', 'embeddings_1948', 'embeddings_1949', 'embeddings_1950', 'embeddings_1951', 'embeddings_1952', 'embeddings_1953', 'embeddings_1954', 'embeddings_1955', 'embeddings_1956', 'embeddings_1957', 'embeddings_1958', 'embeddings_1959', 'embeddings_1960', 'embeddings_1961', 'embeddings_1962', 'embeddings_1963', 'embeddings_1964', 'embeddings_1965', 'embeddings_1966', 'embeddings_1967', 'embeddings_1968', 'embeddings_1969', 'embeddings_1970', 'embeddings_1971', 'embeddings_1972', 'embeddings_1973', 'embeddings_1974', 'embeddings_1975', 'embeddings_1976', 'embeddings_1977', 'embeddings_1978', 'embeddings_1979', 'embeddings_1980', 'embeddings_1981', 'embeddings_1982', 'embeddings_1983', 'embeddings_1984', 'embeddings_1985', 'embeddings_1986', 'embeddings_1987', 'embeddings_1988', 'embeddings_1989', 'embeddings_1990', 'embeddings_1991', 'embeddings_1992', 'embeddings_1993', 'embeddings_1994', 'embeddings_1995', 'embeddings_1996', 'embeddings_1997', 'embeddings_1998', 'embeddings_1999', 'embeddings_2000', 'embeddings_2001', 'embeddings_2002', 'embeddings_2003', 'embeddings_2004', 'embeddings_2005', 'embeddings_2006', 'embeddings_2007', 'embeddings_2008', 'embeddings_2009', 'embeddings_2010', 'embeddings_2011', 'embeddings_2012', 'embeddings_2013', 'embeddings_2014', 'embeddings_2015', 'embeddings_2016', 'embeddings_2017', 'embeddings_2018', 'embeddings_2019', 'embeddings_2020', 'embeddings_2021', 'embeddings_2022', 'embeddings_2023', 'embeddings_2024', 'embeddings_2025', 'embeddings_2026', 'embeddings_2027', 'embeddings_2028', 'embeddings_2029', 'embeddings_2030', 'embeddings_2031', 'embeddings_2032', 'embeddings_2033', 'embeddings_2034', 'embeddings_2035', 'embeddings_2036', 'embeddings_2037', 'embeddings_2038', 'embeddings_2039', 'embeddings_2040', 'embeddings_2041', 'embeddings_2042', 'embeddings_2043', 'embeddings_2044', 'embeddings_2045', 'embeddings_2046', 'embeddings_2047', 'embeddings_2048', 'embeddings_2049', 'embeddings_2050', 'embeddings_2051', 'embeddings_2052', 'embeddings_2053', 'embeddings_2054', 'embeddings_2055', 'embeddings_2056', 'embeddings_2057', 'embeddings_2058', 'embeddings_2059', 'embeddings_2060', 'embeddings_2061', 'embeddings_2062', 'embeddings_2063', 'embeddings_2064', 'embeddings_2065', 'embeddings_2066', 'embeddings_2067', 'embeddings_2068', 'embeddings_2069', 'embeddings_2070', 'embeddings_2071', 'embeddings_2072', 'embeddings_2073', 'embeddings_2074', 'embeddings_2075', 'embeddings_2076', 'embeddings_2077', 'embeddings_2078', 'embeddings_2079', 'embeddings_2080', 'embeddings_2081', 'embeddings_2082', 'embeddings_2083', 'embeddings_2084', 'embeddings_2085', 'embeddings_2086', 'embeddings_2087', 'embeddings_2088', 'embeddings_2089', 'embeddings_2090', 'embeddings_2091', 'embeddings_2092', 'embeddings_2093', 'embeddings_2094', 'embeddings_2095', 'embeddings_2096', 'embeddings_2097', 'embeddings_2098', 'embeddings_2099', 'embeddings_2100', 'embeddings_2101', 'embeddings_2102', 'embeddings_2103', 'embeddings_2104', 'embeddings_2105', 'embeddings_2106', 'embeddings_2107', 'embeddings_2108', 'embeddings_2109', 'embeddings_2110', 'embeddings_2111', 'embeddings_2112', 'embeddings_2113', 'embeddings_2114', 'embeddings_2115', 'embeddings_2116', 'embeddings_2117', 'embeddings_2118', 'embeddings_2119', 'embeddings_2120', 'embeddings_2121', 'embeddings_2122', 'embeddings_2123', 'embeddings_2124', 'embeddings_2125', 'embeddings_2126', 'embeddings_2127', 'embeddings_2128', 'embeddings_2129', 'embeddings_2130', 'embeddings_2131', 'embeddings_2132', 'embeddings_2133', 'embeddings_2134', 'embeddings_2135', 'embeddings_2136', 'embeddings_2137', 'embeddings_2138', 'embeddings_2139', 'embeddings_2140', 'embeddings_2141', 'embeddings_2142', 'embeddings_2143', 'embeddings_2144', 'embeddings_2145', 'embeddings_2146', 'embeddings_2147', 'embeddings_2148', 'embeddings_2149', 'embeddings_2150', 'embeddings_2151', 'embeddings_2152', 'embeddings_2153', 'embeddings_2154', 'embeddings_2155', 'embeddings_2156', 'embeddings_2157', 'embeddings_2158', 'embeddings_2159', 'embeddings_2160', 'embeddings_2161', 'embeddings_2162', 'embeddings_2163', 'embeddings_2164', 'embeddings_2165', 'embeddings_2166', 'embeddings_2167', 'embeddings_2168', 'embeddings_2169', 'embeddings_2170', 'embeddings_2171', 'embeddings_2172', 'embeddings_2173', 'embeddings_2174', 'embeddings_2175', 'embeddings_2176', 'embeddings_2177', 'embeddings_2178', 'embeddings_2179', 'embeddings_2180', 'embeddings_2181', 'embeddings_2182', 'embeddings_2183', 'embeddings_2184', 'embeddings_2185', 'embeddings_2186', 'embeddings_2187', 'embeddings_2188', 'embeddings_2189', 'embeddings_2190', 'embeddings_2191', 'embeddings_2192', 'embeddings_2193', 'embeddings_2194', 'embeddings_2195', 'embeddings_2196', 'embeddings_2197', 'embeddings_2198', 'embeddings_2199', 'embeddings_2200', 'embeddings_2201', 'embeddings_2202', 'embeddings_2203', 'embeddings_2204', 'embeddings_2205', 'embeddings_2206', 'embeddings_2207', 'embeddings_2208', 'embeddings_2209', 'embeddings_2210', 'embeddings_2211', 'embeddings_2212', 'embeddings_2213', 'embeddings_2214', 'embeddings_2215', 'embeddings_2216', 'embeddings_2217', 'embeddings_2218', 'embeddings_2219', 'embeddings_2220', 'embeddings_2221', 'embeddings_2222', 'embeddings_2223', 'embeddings_2224', 'embeddings_2225', 'embeddings_2226', 'embeddings_2227', 'embeddings_2228', 'embeddings_2229', 'embeddings_2230', 'embeddings_2231', 'embeddings_2232', 'embeddings_2233', 'embeddings_2234', 'embeddings_2235', 'embeddings_2236', 'embeddings_2237', 'embeddings_2238', 'embeddings_2239', 'embeddings_2240', 'embeddings_2241', 'embeddings_2242', 'embeddings_2243', 'embeddings_2244', 'embeddings_2245', 'embeddings_2246', 'embeddings_2247', 'embeddings_2248', 'embeddings_2249', 'embeddings_2250', 'embeddings_2251', 'embeddings_2252', 'embeddings_2253', 'embeddings_2254', 'embeddings_2255', 'embeddings_2256', 'embeddings_2257', 'embeddings_2258', 'embeddings_2259', 'embeddings_2260', 'embeddings_2261', 'embeddings_2262', 'embeddings_2263', 'embeddings_2264', 'embeddings_2265', 'embeddings_2266', 'embeddings_2267', 'embeddings_2268', 'embeddings_2269', 'embeddings_2270', 'embeddings_2271', 'embeddings_2272', 'embeddings_2273', 'embeddings_2274', 'embeddings_2275', 'embeddings_2276', 'embeddings_2277', 'embeddings_2278', 'embeddings_2279', 'embeddings_2280', 'embeddings_2281', 'embeddings_2282', 'embeddings_2283', 'embeddings_2284', 'embeddings_2285', 'embeddings_2286', 'embeddings_2287', 'embeddings_2288', 'embeddings_2289', 'embeddings_2290', 'embeddings_2291', 'embeddings_2292', 'embeddings_2293', 'embeddings_2294', 'embeddings_2295', 'embeddings_2296', 'embeddings_2297', 'embeddings_2298', 'embeddings_2299', 'embeddings_2300', 'embeddings_2301', 'embeddings_2302', 'embeddings_2303', 'embeddings_2304', 'embeddings_2305', 'embeddings_2306', 'embeddings_2307', 'embeddings_2308', 'embeddings_2309', 'embeddings_2310', 'embeddings_2311', 'embeddings_2312', 'embeddings_2313', 'embeddings_2314', 'embeddings_2315', 'embeddings_2316', 'embeddings_2317', 'embeddings_2318', 'embeddings_2319', 'embeddings_2320', 'embeddings_2321', 'embeddings_2322', 'embeddings_2323', 'embeddings_2324', 'embeddings_2325', 'embeddings_2326', 'embeddings_2327', 'embeddings_2328', 'embeddings_2329', 'embeddings_2330', 'embeddings_2331', 'embeddings_2332', 'embeddings_2333', 'embeddings_2334', 'embeddings_2335', 'embeddings_2336', 'embeddings_2337', 'embeddings_2338', 'embeddings_2339', 'embeddings_2340', 'embeddings_2341', 'embeddings_2342', 'embeddings_2343', 'embeddings_2344', 'embeddings_2345', 'embeddings_2346', 'embeddings_2347', 'embeddings_2348', 'embeddings_2349', 'embeddings_2350', 'embeddings_2351', 'embeddings_2352', 'embeddings_2353', 'embeddings_2354', 'embeddings_2355', 'embeddings_2356', 'embeddings_2357', 'embeddings_2358', 'embeddings_2359', 'embeddings_2360', 'embeddings_2361', 'embeddings_2362', 'embeddings_2363', 'embeddings_2364', 'embeddings_2365', 'embeddings_2366', 'embeddings_2367', 'embeddings_2368', 'embeddings_2369', 'embeddings_2370', 'embeddings_2371', 'embeddings_2372', 'embeddings_2373', 'embeddings_2374', 'embeddings_2375', 'embeddings_2376', 'embeddings_2377', 'embeddings_2378', 'embeddings_2379', 'embeddings_2380', 'embeddings_2381', 'embeddings_2382', 'embeddings_2383', 'embeddings_2384', 'embeddings_2385', 'embeddings_2386', 'embeddings_2387', 'embeddings_2388', 'embeddings_2389', 'embeddings_2390', 'embeddings_2391', 'embeddings_2392', 'embeddings_2393', 'embeddings_2394', 'embeddings_2395', 'embeddings_2396', 'embeddings_2397', 'embeddings_2398', 'embeddings_2399', 'embeddings_2400', 'embeddings_2401', 'embeddings_2402', 'embeddings_2403', 'embeddings_2404', 'embeddings_2405', 'embeddings_2406', 'embeddings_2407', 'embeddings_2408', 'embeddings_2409', 'embeddings_2410', 'embeddings_2411', 'embeddings_2412', 'embeddings_2413', 'embeddings_2414', 'embeddings_2415', 'embeddings_2416', 'embeddings_2417', 'embeddings_2418', 'embeddings_2419', 'embeddings_2420', 'embeddings_2421', 'embeddings_2422', 'embeddings_2423', 'embeddings_2424', 'embeddings_2425', 'embeddings_2426', 'embeddings_2427', 'embeddings_2428', 'embeddings_2429', 'embeddings_2430', 'embeddings_2431', 'embeddings_2432', 'embeddings_2433', 'embeddings_2434', 'embeddings_2435', 'embeddings_2436', 'embeddings_2437', 'embeddings_2438', 'embeddings_2439', 'embeddings_2440', 'embeddings_2441', 'embeddings_2442', 'embeddings_2443', 'embeddings_2444', 'embeddings_2445', 'embeddings_2446', 'embeddings_2447', 'embeddings_2448', 'embeddings_2449', 'embeddings_2450', 'embeddings_2451', 'embeddings_2452', 'embeddings_2453', 'embeddings_2454', 'embeddings_2455', 'embeddings_2456', 'embeddings_2457', 'embeddings_2458', 'embeddings_2459', 'embeddings_2460', 'embeddings_2461', 'embeddings_2462', 'embeddings_2463', 'embeddings_2464', 'embeddings_2465', 'embeddings_2466', 'embeddings_2467', 'embeddings_2468', 'embeddings_2469', 'embeddings_2470', 'embeddings_2471', 'embeddings_2472', 'embeddings_2473', 'embeddings_2474', 'embeddings_2475', 'embeddings_2476', 'embeddings_2477', 'embeddings_2478', 'embeddings_2479', 'embeddings_2480', 'embeddings_2481', 'embeddings_2482', 'embeddings_2483', 'embeddings_2484', 'embeddings_2485', 'embeddings_2486', 'embeddings_2487', 'embeddings_2488', 'embeddings_2489', 'embeddings_2490', 'embeddings_2491', 'embeddings_2492', 'embeddings_2493', 'embeddings_2494', 'embeddings_2495', 'embeddings_2496', 'embeddings_2497', 'embeddings_2498', 'embeddings_2499', 'embeddings_2500', 'embeddings_2501', 'embeddings_2502', 'embeddings_2503', 'embeddings_2504', 'embeddings_2505', 'embeddings_2506', 'embeddings_2507', 'embeddings_2508', 'embeddings_2509', 'embeddings_2510', 'embeddings_2511', 'embeddings_2512', 'embeddings_2513', 'embeddings_2514', 'embeddings_2515', 'embeddings_2516', 'embeddings_2517', 'embeddings_2518', 'embeddings_2519', 'embeddings_2520', 'embeddings_2521', 'embeddings_2522', 'embeddings_2523', 'embeddings_2524', 'embeddings_2525', 'embeddings_2526', 'embeddings_2527', 'embeddings_2528', 'embeddings_2529', 'embeddings_2530', 'embeddings_2531', 'embeddings_2532', 'embeddings_2533', 'embeddings_2534', 'embeddings_2535', 'embeddings_2536', 'embeddings_2537', 'embeddings_2538', 'embeddings_2539', 'embeddings_2540', 'embeddings_2541', 'embeddings_2542', 'embeddings_2543', 'embeddings_2544', 'embeddings_2545', 'embeddings_2546', 'embeddings_2547', 'embeddings_2548', 'embeddings_2549', 'embeddings_2550', 'embeddings_2551', 'embeddings_2552', 'embeddings_2553', 'embeddings_2554', 'embeddings_2555', 'embeddings_2556', 'embeddings_2557', 'embeddings_2558', 'embeddings_2559', 'embeddings_2560', 'embeddings_2561', 'embeddings_2562', 'embeddings_2563', 'embeddings_2564', 'embeddings_2565', 'embeddings_2566', 'embeddings_2567', 'embeddings_2568', 'embeddings_2569', 'embeddings_2570', 'embeddings_2571', 'embeddings_2572', 'embeddings_2573', 'embeddings_2574', 'embeddings_2575', 'embeddings_2576', 'embeddings_2577', 'embeddings_2578', 'embeddings_2579', 'embeddings_2580', 'embeddings_2581', 'embeddings_2582', 'embeddings_2583', 'embeddings_2584', 'embeddings_2585', 'embeddings_2586', 'embeddings_2587', 'embeddings_2588', 'embeddings_2589', 'embeddings_2590', 'embeddings_2591', 'embeddings_2592', 'embeddings_2593', 'embeddings_2594', 'embeddings_2595', 'embeddings_2596', 'embeddings_2597', 'embeddings_2598', 'embeddings_2599', 'embeddings_2600', 'embeddings_2601', 'embeddings_2602', 'embeddings_2603', 'embeddings_2604', 'embeddings_2605', 'embeddings_2606', 'embeddings_2607', 'embeddings_2608', 'embeddings_2609', 'embeddings_2610', 'embeddings_2611', 'embeddings_2612', 'embeddings_2613', 'embeddings_2614', 'embeddings_2615', 'embeddings_2616', 'embeddings_2617', 'embeddings_2618', 'embeddings_2619', 'embeddings_2620', 'embeddings_2621', 'embeddings_2622', 'embeddings_2623', 'embeddings_2624', 'embeddings_2625', 'embeddings_2626', 'embeddings_2627', 'embeddings_2628', 'embeddings_2629', 'embeddings_2630', 'embeddings_2631', 'embeddings_2632', 'embeddings_2633', 'embeddings_2634', 'embeddings_2635', 'embeddings_2636', 'embeddings_2637', 'embeddings_2638', 'embeddings_2639', 'embeddings_2640', 'embeddings_2641', 'embeddings_2642', 'embeddings_2643', 'embeddings_2644', 'embeddings_2645', 'embeddings_2646', 'embeddings_2647', 'embeddings_2648', 'embeddings_2649', 'embeddings_2650', 'embeddings_2651', 'embeddings_2652', 'embeddings_2653', 'embeddings_2654', 'embeddings_2655', 'embeddings_2656', 'embeddings_2657', 'embeddings_2658', 'embeddings_2659', 'embeddings_2660', 'embeddings_2661', 'embeddings_2662', 'embeddings_2663', 'embeddings_2664', 'embeddings_2665', 'embeddings_2666', 'embeddings_2667', 'embeddings_2668', 'embeddings_2669', 'embeddings_2670', 'embeddings_2671', 'embeddings_2672', 'embeddings_2673', 'embeddings_2674', 'embeddings_2675', 'embeddings_2676', 'embeddings_2677', 'embeddings_2678', 'embeddings_2679', 'embeddings_2680', 'embeddings_2681', 'embeddings_2682', 'embeddings_2683', 'embeddings_2684', 'embeddings_2685', 'embeddings_2686', 'embeddings_2687', 'embeddings_2688', 'embeddings_2689', 'embeddings_2690', 'embeddings_2691', 'embeddings_2692', 'embeddings_2693', 'embeddings_2694', 'embeddings_2695', 'embeddings_2696', 'embeddings_2697', 'embeddings_2698', 'embeddings_2699', 'embeddings_2700', 'embeddings_2701', 'embeddings_2702', 'embeddings_2703', 'embeddings_2704', 'embeddings_2705', 'embeddings_2706', 'embeddings_2707', 'embeddings_2708', 'embeddings_2709', 'embeddings_2710', 'embeddings_2711', 'embeddings_2712', 'embeddings_2713', 'embeddings_2714', 'embeddings_2715', 'embeddings_2716', 'embeddings_2717', 'embeddings_2718', 'embeddings_2719', 'embeddings_2720', 'embeddings_2721', 'embeddings_2722', 'embeddings_2723', 'embeddings_2724', 'embeddings_2725', 'embeddings_2726', 'embeddings_2727', 'embeddings_2728', 'embeddings_2729', 'embeddings_2730', 'embeddings_2731', 'embeddings_2732', 'embeddings_2733', 'embeddings_2734', 'embeddings_2735', 'embeddings_2736', 'embeddings_2737', 'embeddings_2738', 'embeddings_2739', 'embeddings_2740', 'embeddings_2741', 'embeddings_2742', 'embeddings_2743', 'embeddings_2744', 'embeddings_2745', 'embeddings_2746', 'embeddings_2747', 'embeddings_2748', 'embeddings_2749', 'embeddings_2750', 'embeddings_2751', 'embeddings_2752', 'embeddings_2753', 'embeddings_2754', 'embeddings_2755', 'embeddings_2756', 'embeddings_2757', 'embeddings_2758', 'embeddings_2759', 'embeddings_2760', 'embeddings_2761', 'embeddings_2762', 'embeddings_2763', 'embeddings_2764', 'embeddings_2765', 'embeddings_2766', 'embeddings_2767', 'embeddings_2768', 'embeddings_2769', 'embeddings_2770', 'embeddings_2771', 'embeddings_2772', 'embeddings_2773', 'embeddings_2774', 'embeddings_2775', 'embeddings_2776', 'embeddings_2777', 'embeddings_2778', 'embeddings_2779', 'embeddings_2780', 'embeddings_2781', 'embeddings_2782', 'embeddings_2783', 'embeddings_2784', 'embeddings_2785', 'embeddings_2786', 'embeddings_2787', 'embeddings_2788', 'embeddings_2789', 'embeddings_2790', 'embeddings_2791', 'embeddings_2792', 'embeddings_2793', 'embeddings_2794', 'embeddings_2795', 'embeddings_2796', 'embeddings_2797', 'embeddings_2798', 'embeddings_2799', 'embeddings_2800', 'embeddings_2801', 'embeddings_2802', 'embeddings_2803', 'embeddings_2804', 'embeddings_2805', 'embeddings_2806', 'embeddings_2807', 'embeddings_2808', 'embeddings_2809', 'embeddings_2810', 'embeddings_2811', 'embeddings_2812', 'embeddings_2813', 'embeddings_2814', 'embeddings_2815', 'embeddings_2816', 'embeddings_2817', 'embeddings_2818', 'embeddings_2819', 'embeddings_2820', 'embeddings_2821', 'embeddings_2822', 'embeddings_2823', 'embeddings_2824', 'embeddings_2825', 'embeddings_2826', 'embeddings_2827', 'embeddings_2828', 'embeddings_2829', 'embeddings_2830', 'embeddings_2831', 'embeddings_2832', 'embeddings_2833', 'embeddings_2834', 'embeddings_2835', 'embeddings_2836', 'embeddings_2837', 'embeddings_2838', 'embeddings_2839', 'embeddings_2840', 'embeddings_2841', 'embeddings_2842', 'embeddings_2843', 'embeddings_2844', 'embeddings_2845', 'embeddings_2846', 'embeddings_2847', 'embeddings_2848', 'embeddings_2849', 'embeddings_2850', 'embeddings_2851', 'embeddings_2852', 'embeddings_2853', 'embeddings_2854', 'embeddings_2855', 'embeddings_2856', 'embeddings_2857', 'embeddings_2858', 'embeddings_2859', 'embeddings_2860', 'embeddings_2861', 'embeddings_2862', 'embeddings_2863', 'embeddings_2864', 'embeddings_2865', 'embeddings_2866', 'embeddings_2867', 'embeddings_2868', 'embeddings_2869', 'embeddings_2870', 'embeddings_2871', 'embeddings_2872', 'embeddings_2873', 'embeddings_2874', 'embeddings_2875', 'embeddings_2876', 'embeddings_2877', 'embeddings_2878', 'embeddings_2879', 'embeddings_2880', 'embeddings_2881', 'embeddings_2882', 'embeddings_2883', 'embeddings_2884', 'embeddings_2885', 'embeddings_2886', 'embeddings_2887', 'embeddings_2888', 'embeddings_2889', 'embeddings_2890', 'embeddings_2891', 'embeddings_2892', 'embeddings_2893', 'embeddings_2894', 'embeddings_2895', 'embeddings_2896', 'embeddings_2897', 'embeddings_2898', 'embeddings_2899', 'embeddings_2900', 'embeddings_2901', 'embeddings_2902', 'embeddings_2903', 'embeddings_2904', 'embeddings_2905', 'embeddings_2906', 'embeddings_2907', 'embeddings_2908', 'embeddings_2909', 'embeddings_2910', 'embeddings_2911', 'embeddings_2912', 'embeddings_2913', 'embeddings_2914', 'embeddings_2915', 'embeddings_2916', 'embeddings_2917', 'embeddings_2918', 'embeddings_2919', 'embeddings_2920', 'embeddings_2921', 'embeddings_2922', 'embeddings_2923', 'embeddings_2924', 'embeddings_2925', 'embeddings_2926', 'embeddings_2927', 'embeddings_2928', 'embeddings_2929', 'embeddings_2930', 'embeddings_2931', 'embeddings_2932', 'embeddings_2933', 'embeddings_2934', 'embeddings_2935', 'embeddings_2936', 'embeddings_2937', 'embeddings_2938', 'embeddings_2939', 'embeddings_2940', 'embeddings_2941', 'embeddings_2942', 'embeddings_2943', 'embeddings_2944', 'embeddings_2945', 'embeddings_2946', 'embeddings_2947', 'embeddings_2948', 'embeddings_2949', 'embeddings_2950', 'embeddings_2951', 'embeddings_2952', 'embeddings_2953', 'embeddings_2954', 'embeddings_2955', 'embeddings_2956', 'embeddings_2957', 'embeddings_2958', 'embeddings_2959', 'embeddings_2960', 'embeddings_2961', 'embeddings_2962', 'embeddings_2963', 'embeddings_2964', 'embeddings_2965', 'embeddings_2966', 'embeddings_2967', 'embeddings_2968', 'embeddings_2969', 'embeddings_2970', 'embeddings_2971', 'embeddings_2972', 'embeddings_2973', 'embeddings_2974', 'embeddings_2975', 'embeddings_2976', 'embeddings_2977', 'embeddings_2978', 'embeddings_2979', 'embeddings_2980', 'embeddings_2981', 'embeddings_2982', 'embeddings_2983', 'embeddings_2984', 'embeddings_2985', 'embeddings_2986', 'embeddings_2987', 'embeddings_2988', 'embeddings_2989', 'embeddings_2990', 'embeddings_2991', 'embeddings_2992', 'embeddings_2993', 'embeddings_2994', 'embeddings_2995', 'embeddings_2996', 'embeddings_2997', 'embeddings_2998', 'embeddings_2999', 'embeddings_3000', 'embeddings_3001', 'embeddings_3002', 'embeddings_3003', 'embeddings_3004', 'embeddings_3005', 'embeddings_3006', 'embeddings_3007', 'embeddings_3008', 'embeddings_3009', 'embeddings_3010', 'embeddings_3011', 'embeddings_3012', 'embeddings_3013', 'embeddings_3014', 'embeddings_3015', 'embeddings_3016', 'embeddings_3017', 'embeddings_3018', 'embeddings_3019', 'embeddings_3020', 'embeddings_3021', 'embeddings_3022', 'embeddings_3023', 'embeddings_3024', 'embeddings_3025', 'embeddings_3026', 'embeddings_3027', 'embeddings_3028', 'embeddings_3029', 'embeddings_3030', 'embeddings_3031', 'embeddings_3032', 'embeddings_3033', 'embeddings_3034', 'embeddings_3035', 'embeddings_3036', 'embeddings_3037', 'embeddings_3038', 'embeddings_3039', 'embeddings_3040', 'embeddings_3041', 'embeddings_3042', 'embeddings_3043', 'embeddings_3044', 'embeddings_3045', 'embeddings_3046', 'embeddings_3047', 'embeddings_3048', 'embeddings_3049', 'embeddings_3050', 'embeddings_3051', 'embeddings_3052', 'embeddings_3053', 'embeddings_3054', 'embeddings_3055', 'embeddings_3056', 'embeddings_3057', 'embeddings_3058', 'embeddings_3059', 'embeddings_3060', 'embeddings_3061', 'embeddings_3062', 'embeddings_3063', 'embeddings_3064', 'embeddings_3065', 'embeddings_3066', 'embeddings_3067', 'embeddings_3068', 'embeddings_3069', 'embeddings_3070', 'embeddings_3071']\n"
     ]
    }
   ],
   "source": [
    "evf = vf.with_columns( pl.col(\"embeddings\").arr.get(i).alias(f\"embeddings_{i}\") for i in range(width)).select(pl.all().exclude(\"embeddings\"))\n",
    "embedding_columns = [f\"embeddings_{i}\" for i in range(width)]\n",
    "# embedding_columns = [f\"embeddings_{i}\" for i in range(1)]\n",
    "print(embedding_columns)"
   ]
  },
  {
   "cell_type": "code",
   "execution_count": 21,
   "metadata": {},
   "outputs": [
    {
     "name": "stdout",
     "output_type": "stream",
     "text": [
      "knn with polars_ds num_rows 9999, num_embedding_columns 3072, k 10, leaf_size 1000\n",
      "--- 27.41622495651245 seconds ---\n"
     ]
    },
    {
     "data": {
      "text/html": [
       "<div><style>\n",
       ".dataframe > thead > tr,\n",
       ".dataframe > tbody > tr {\n",
       "  text-align: right;\n",
       "  white-space: pre-wrap;\n",
       "}\n",
       "</style>\n",
       "<small>shape: (9_999, 2)</small><table border=\"1\" class=\"dataframe\"><thead><tr><th>id</th><th>top_k_neighbors</th></tr><tr><td>u32</td><td>list[u64]</td></tr></thead><tbody><tr><td>0</td><td>[0, 3726, … 6006]</td></tr><tr><td>1</td><td>[1, 2486, … 2622]</td></tr><tr><td>2</td><td>[2, 8217, … 5688]</td></tr><tr><td>3</td><td>[3, 9569, … 6742]</td></tr><tr><td>4</td><td>[4, 1044, … 3945]</td></tr><tr><td>5</td><td>[5, 9173, … 9775]</td></tr><tr><td>6</td><td>[6, 825, … 5645]</td></tr><tr><td>7</td><td>[7, 2519, … 7956]</td></tr><tr><td>8</td><td>[8, 6168, … 6354]</td></tr><tr><td>9</td><td>[9, 3565, … 3271]</td></tr><tr><td>10</td><td>[10, 4819, … 6041]</td></tr><tr><td>11</td><td>[11, 8174, … 5121]</td></tr><tr><td>&hellip;</td><td>&hellip;</td></tr><tr><td>9987</td><td>[9987, 2443, … 5333]</td></tr><tr><td>9988</td><td>[9988, 352, … 8275]</td></tr><tr><td>9989</td><td>[9989, 6832, … 7931]</td></tr><tr><td>9990</td><td>[9990, 2984, … 9278]</td></tr><tr><td>9991</td><td>[9991, 2544, … 149]</td></tr><tr><td>9992</td><td>[9992, 5770, … 339]</td></tr><tr><td>9993</td><td>[9993, 7585, … 469]</td></tr><tr><td>9994</td><td>[9994, 7796, … 8388]</td></tr><tr><td>9995</td><td>[9995, 4457, … 1791]</td></tr><tr><td>9996</td><td>[9996, 6504, … 3135]</td></tr><tr><td>9997</td><td>[9997, 7007, … 3274]</td></tr><tr><td>9998</td><td>[9998, 3679, … 3112]</td></tr></tbody></table></div>"
      ],
      "text/plain": [
       "shape: (9_999, 2)\n",
       "┌──────┬──────────────────────┐\n",
       "│ id   ┆ top_k_neighbors      │\n",
       "│ ---  ┆ ---                  │\n",
       "│ u32  ┆ list[u64]            │\n",
       "╞══════╪══════════════════════╡\n",
       "│ 0    ┆ [0, 3726, … 6006]    │\n",
       "│ 1    ┆ [1, 2486, … 2622]    │\n",
       "│ 2    ┆ [2, 8217, … 5688]    │\n",
       "│ 3    ┆ [3, 9569, … 6742]    │\n",
       "│ 4    ┆ [4, 1044, … 3945]    │\n",
       "│ …    ┆ …                    │\n",
       "│ 9994 ┆ [9994, 7796, … 8388] │\n",
       "│ 9995 ┆ [9995, 4457, … 1791] │\n",
       "│ 9996 ┆ [9996, 6504, … 3135] │\n",
       "│ 9997 ┆ [9997, 7007, … 3274] │\n",
       "│ 9998 ┆ [9998, 3679, … 3112] │\n",
       "└──────┴──────────────────────┘"
      ]
     },
     "execution_count": 21,
     "metadata": {},
     "output_type": "execute_result"
    }
   ],
   "source": [
    "leaf_size = 1000\n",
    "k = 10\n",
    "start_time = time.time()\n",
    "print(\"knn with polars_ds num_rows {}, num_embedding_columns {}, k {}, leaf_size {}\".format(vf.shape[0], len(embedding_columns),k, leaf_size))\n",
    "\n",
    "knn = evf.select(\n",
    "    pl.col(\"id\"),\n",
    "    pl.col(\"id\").num.knn_ptwise(\n",
    "        *(pl.col(name) for name in embedding_columns), # Columns used as the coordinates in n-d space\n",
    "        k = k, \n",
    "        dist = \"l2\", # actually this is squared l2\n",
    "        leaf_size = leaf_size,\n",
    "        parallel = True\n",
    "    ).alias(\"top_k_neighbors\"),\n",
    ")\n",
    "print(\"--- %s seconds ---\" % (time.time() - start_time))\n",
    "knn"
   ]
  },
  {
   "cell_type": "code",
   "execution_count": null,
   "metadata": {},
   "outputs": [],
   "source": [
    "import polars_distance as plds"
   ]
  },
  {
   "cell_type": "code",
   "execution_count": 13,
   "metadata": {},
   "outputs": [
    {
     "data": {
      "text/html": [
       "<div><style>\n",
       ".dataframe > thead > tr,\n",
       ".dataframe > tbody > tr {\n",
       "  text-align: right;\n",
       "  white-space: pre-wrap;\n",
       "}\n",
       "</style>\n",
       "<small>shape: (999, 4)</small><table border=\"1\" class=\"dataframe\"><thead><tr><th>id</th><th>combined_text</th><th>embeddings</th><th>query_embeddings</th></tr><tr><td>u32</td><td>str</td><td>array[f64, 3072]</td><td>array[f64, 3072]</td></tr></thead><tbody><tr><td>0</td><td>&quot;Parabolic refl…</td><td>[-0.022388, 0.028537, … -0.013797]</td><td>[-0.011691, 0.011382, … 0.005522]</td></tr><tr><td>1</td><td>&quot;John Baird (Ca…</td><td>[-0.009061, -0.011509, … 0.014185]</td><td>[-0.011691, 0.011382, … 0.005522]</td></tr><tr><td>2</td><td>&quot;The 80s: A Loo…</td><td>[-0.006117, -0.002699, … -0.000185]</td><td>[-0.011691, 0.011382, … 0.005522]</td></tr><tr><td>3</td><td>&quot;Shin Sang-ok S…</td><td>[0.033835, -0.006922, … -0.023406]</td><td>[-0.011691, 0.011382, … 0.005522]</td></tr><tr><td>4</td><td>&quot;Géza Anda Géza…</td><td>[-0.013956, 0.007346, … 0.002309]</td><td>[-0.011691, 0.011382, … 0.005522]</td></tr><tr><td>5</td><td>&quot;Marge vs. the …</td><td>[-0.016115, -0.016613, … 0.002089]</td><td>[-0.011691, 0.011382, … 0.005522]</td></tr><tr><td>6</td><td>&quot;Quebec general…</td><td>[0.029057, 0.005818, … 0.005066]</td><td>[-0.011691, 0.011382, … 0.005522]</td></tr><tr><td>7</td><td>&quot;D. P. Todd Sec…</td><td>[0.024967, 0.003702, … 0.02632]</td><td>[-0.011691, 0.011382, … 0.005522]</td></tr><tr><td>8</td><td>&quot;Dennis Gamsy D…</td><td>[0.024082, 0.017386, … 0.007041]</td><td>[-0.011691, 0.011382, … 0.005522]</td></tr><tr><td>9</td><td>&quot;Gourmet Night …</td><td>[-0.015987, 0.029655, … 0.010463]</td><td>[-0.011691, 0.011382, … 0.005522]</td></tr><tr><td>10</td><td>&quot;817 Squadron R…</td><td>[-0.031801, 0.016233, … 0.026679]</td><td>[-0.011691, 0.011382, … 0.005522]</td></tr><tr><td>11</td><td>&quot;The Standard (…</td><td>[-0.001427, -0.017657, … 0.014263]</td><td>[-0.011691, 0.011382, … 0.005522]</td></tr><tr><td>&hellip;</td><td>&hellip;</td><td>&hellip;</td><td>&hellip;</td></tr><tr><td>987</td><td>&quot;Harry Bensley …</td><td>[0.044487, 0.010418, … -0.015275]</td><td>[-0.011691, 0.011382, … 0.005522]</td></tr><tr><td>988</td><td>&quot;Seville Cathed…</td><td>[0.039692, 0.008711, … 0.004239]</td><td>[-0.011691, 0.011382, … 0.005522]</td></tr><tr><td>989</td><td>&quot;Marcel Desaill…</td><td>[-0.005046, 0.019725, … -0.025787]</td><td>[-0.011691, 0.011382, … 0.005522]</td></tr><tr><td>990</td><td>&quot;Rubjerg Knude …</td><td>[0.012655, -0.035015, … 0.012885]</td><td>[-0.011691, 0.011382, … 0.005522]</td></tr><tr><td>991</td><td>&quot;Brayan Peña Br…</td><td>[-0.001796, 0.043865, … -0.00559]</td><td>[-0.011691, 0.011382, … 0.005522]</td></tr><tr><td>992</td><td>&quot;West Garo Hill…</td><td>[0.014393, 0.030377, … 0.042197]</td><td>[-0.011691, 0.011382, … 0.005522]</td></tr><tr><td>993</td><td>&quot;Dave Henderson…</td><td>[0.029979, 0.000786, … -0.03182]</td><td>[-0.011691, 0.011382, … 0.005522]</td></tr><tr><td>994</td><td>&quot;Lillian Ross (…</td><td>[-0.016599, 0.009568, … 0.022504]</td><td>[-0.011691, 0.011382, … 0.005522]</td></tr><tr><td>995</td><td>&quot;576 Year 576 (…</td><td>[-0.015101, 0.020429, … -0.003271]</td><td>[-0.011691, 0.011382, … 0.005522]</td></tr><tr><td>996</td><td>&quot;Bacău Bacău (R…</td><td>[0.010067, -0.008823, … 0.00082]</td><td>[-0.011691, 0.011382, … 0.005522]</td></tr><tr><td>997</td><td>&quot;Insurance Hall…</td><td>[0.036209, 0.018373, … -0.024822]</td><td>[-0.011691, 0.011382, … 0.005522]</td></tr><tr><td>998</td><td>&quot;Viscount Allen…</td><td>[0.043133, 0.037345, … -0.010999]</td><td>[-0.011691, 0.011382, … 0.005522]</td></tr></tbody></table></div>"
      ],
      "text/plain": [
       "shape: (999, 4)\n",
       "┌─────┬───────────────────────────────────┬──────────────────────────┬─────────────────────────┐\n",
       "│ id  ┆ combined_text                     ┆ embeddings               ┆ query_embeddings        │\n",
       "│ --- ┆ ---                               ┆ ---                      ┆ ---                     │\n",
       "│ u32 ┆ str                               ┆ array[f64, 3072]         ┆ array[f64, 3072]        │\n",
       "╞═════╪═══════════════════════════════════╪══════════════════════════╪═════════════════════════╡\n",
       "│ 0   ┆ Parabolic reflector A parabolic … ┆ [-0.022388, 0.028537, …  ┆ [-0.011691, 0.011382, … │\n",
       "│     ┆                                   ┆ -0.01379…                ┆ 0.005522…               │\n",
       "│ 1   ┆ John Baird (Canadian politician)… ┆ [-0.009061, -0.011509, … ┆ [-0.011691, 0.011382, … │\n",
       "│     ┆                                   ┆ 0.01418…                 ┆ 0.005522…               │\n",
       "│ 2   ┆ The 80s: A Look Back at the Tumu… ┆ [-0.006117, -0.002699, … ┆ [-0.011691, 0.011382, … │\n",
       "│     ┆                                   ┆ -0.0001…                 ┆ 0.005522…               │\n",
       "│ 3   ┆ Shin Sang-ok Shin Sang-ok (Octob… ┆ [0.033835, -0.006922, …  ┆ [-0.011691, 0.011382, … │\n",
       "│     ┆                                   ┆ -0.02340…                ┆ 0.005522…               │\n",
       "│ 4   ┆ Géza Anda Géza Anda (Hungarian p… ┆ [-0.013956, 0.007346, …  ┆ [-0.011691, 0.011382, … │\n",
       "│     ┆                                   ┆ 0.002309…                ┆ 0.005522…               │\n",
       "│ …   ┆ …                                 ┆ …                        ┆ …                       │\n",
       "│ 994 ┆ Lillian Ross (politician) Lillia… ┆ [-0.016599, 0.009568, …  ┆ [-0.011691, 0.011382, … │\n",
       "│     ┆                                   ┆ 0.022504…                ┆ 0.005522…               │\n",
       "│ 995 ┆ 576 Year 576 (DLXXVI) was a leap… ┆ [-0.015101, 0.020429, …  ┆ [-0.011691, 0.011382, … │\n",
       "│     ┆                                   ┆ -0.00327…                ┆ 0.005522…               │\n",
       "│ 996 ┆ Bacău Bacău (Romanian pronunciat… ┆ [0.010067, -0.008823, …  ┆ [-0.011691, 0.011382, … │\n",
       "│     ┆                                   ┆ 0.00082]                 ┆ 0.005522…               │\n",
       "│ 997 ┆ Insurance Hall of Fame The ' Ins… ┆ [0.036209, 0.018373, …   ┆ [-0.011691, 0.011382, … │\n",
       "│     ┆                                   ┆ -0.024822…               ┆ 0.005522…               │\n",
       "│ 998 ┆ Viscount Allen Viscount Allen, i… ┆ [0.043133, 0.037345, …   ┆ [-0.011691, 0.011382, … │\n",
       "│     ┆                                   ┆ -0.010999…               ┆ 0.005522…               │\n",
       "└─────┴───────────────────────────────────┴──────────────────────────┴─────────────────────────┘"
      ]
     },
     "execution_count": 13,
     "metadata": {},
     "output_type": "execute_result"
    }
   ],
   "source": [
    "#let's try to go manual and see if it works\n",
    "vf = vf.with_columns(pl.lit(query_embeddings.arr.to_list()).alias(\"query_embeddings\"))\n",
    "vf= vf.with_columns(pl.col(\"query_embeddings\").list.to_array(width=width).alias(\"query_embeddings\"))\n",
    "vf"
   ]
  },
  {
   "cell_type": "code",
   "execution_count": 14,
   "metadata": {},
   "outputs": [],
   "source": []
  },
  {
   "cell_type": "code",
   "execution_count": 15,
   "metadata": {},
   "outputs": [
    {
     "name": "stdout",
     "output_type": "stream",
     "text": [
      "WWMB WWMB is CW-affiliated television station for South Carolina's Pee Dee and Grand Strand regions that is licensed to Florence. It broadcasts a 720p high definition digital signal on UHF channel 21 from a transmitter on Pee Dee Church Road in Floydale. Owned by Howard Stirk Holdings, WWMB is operated through a local marketing agreement (LMA) by the Sinclair Broadcast Group.\n"
     ]
    }
   ],
   "source": [
    "query_str = query[\"combined_text\"].to_list()[0]\n",
    "print(query_str)"
   ]
  },
  {
   "cell_type": "code",
   "execution_count": 16,
   "metadata": {},
   "outputs": [
    {
     "name": "stdout",
     "output_type": "stream",
     "text": [
      "Time taken:  0.004846811294555664\n"
     ]
    },
    {
     "data": {
      "text/html": [
       "<div><style>\n",
       ".dataframe > thead > tr,\n",
       ".dataframe > tbody > tr {\n",
       "  text-align: right;\n",
       "  white-space: pre-wrap;\n",
       "}\n",
       "</style>\n",
       "<small>shape: (999, 2)</small><table border=\"1\" class=\"dataframe\"><thead><tr><th>combined_text</th><th>l2</th></tr><tr><td>str</td><td>f64</td></tr></thead><tbody><tr><td>&quot;WWCR WWCR is a…</td><td>1.005102</td></tr><tr><td>&quot;WVVA WVVA, cha…</td><td>1.034929</td></tr><tr><td>&quot;KCPM (TV) KCPM…</td><td>1.047232</td></tr><tr><td>&quot;WDFX WDFX may …</td><td>1.102579</td></tr><tr><td>&quot;WLR FM WLR FM …</td><td>1.133165</td></tr><tr><td>&quot;DWBR DWBR (104…</td><td>1.135726</td></tr><tr><td>&quot;List of ABS-CB…</td><td>1.162832</td></tr><tr><td>&quot;Newsworld Inte…</td><td>1.183512</td></tr><tr><td>&quot;The Inter-Moun…</td><td>1.186985</td></tr><tr><td>&quot;All News Chann…</td><td>1.196639</td></tr><tr><td>&quot;Catia TVe Cati…</td><td>1.199566</td></tr><tr><td>&quot;Zapp Mobile Za…</td><td>1.206894</td></tr><tr><td>&hellip;</td><td>&hellip;</td></tr><tr><td>&quot;List of Grand …</td><td>1.433091</td></tr><tr><td>&quot;List of Catala…</td><td>1.433198</td></tr><tr><td>&quot;Ruan Xian Ruan…</td><td>1.433245</td></tr><tr><td>&quot;List of Dance …</td><td>1.43338</td></tr><tr><td>&quot;Alexis Argüell…</td><td>1.434585</td></tr><tr><td>&quot;Saxe Bannister…</td><td>1.436656</td></tr><tr><td>&quot;1674 in litera…</td><td>1.437251</td></tr><tr><td>&quot;Sanskrit studi…</td><td>1.442239</td></tr><tr><td>&quot;Café Tacuba (a…</td><td>1.445264</td></tr><tr><td>&quot;Praxeology Pra…</td><td>1.453332</td></tr><tr><td>&quot;Les Insomniaqu…</td><td>1.453985</td></tr><tr><td>&quot;Alexander Bezb…</td><td>1.460395</td></tr></tbody></table></div>"
      ],
      "text/plain": [
       "shape: (999, 2)\n",
       "┌───────────────────────────────────┬──────────┐\n",
       "│ combined_text                     ┆ l2       │\n",
       "│ ---                               ┆ ---      │\n",
       "│ str                               ┆ f64      │\n",
       "╞═══════════════════════════════════╪══════════╡\n",
       "│ WWCR WWCR is a shortwave radio s… ┆ 1.005102 │\n",
       "│ WVVA WVVA, channel 6, is an NBC-… ┆ 1.034929 │\n",
       "│ KCPM (TV) KCPM, channel 27, is t… ┆ 1.047232 │\n",
       "│ WDFX WDFX may refer to: WDFX-TV,… ┆ 1.102579 │\n",
       "│ WLR FM WLR FM (Waterford Local R… ┆ 1.133165 │\n",
       "│ …                                 ┆ …        │\n",
       "│ Sanskrit studies Sanskrit has be… ┆ 1.442239 │\n",
       "│ Café Tacuba (album) Café Tacuba … ┆ 1.445264 │\n",
       "│ Praxeology Praxeology (Gr. πρᾶξι… ┆ 1.453332 │\n",
       "│ Les Insomniaques s'amusent Les I… ┆ 1.453985 │\n",
       "│ Alexander Bezborodko Prince Alex… ┆ 1.460395 │\n",
       "└───────────────────────────────────┴──────────┘"
      ]
     },
     "execution_count": 16,
     "metadata": {},
     "output_type": "execute_result"
    }
   ],
   "source": [
    "size = 1000000\n",
    "sf = vf.slice(0, size)\n",
    "pre_time = time.time()\n",
    "out = sf.select(pl.col(\"combined_text\"),plds.col(\"embeddings\").dist_arr.euclidean(\"query_embeddings\").alias(\"l2\")).sort(\"l2\")\n",
    "print(\"Time taken: \", time.time() - pre_time)\n",
    "out"
   ]
  },
  {
   "cell_type": "code",
   "execution_count": 17,
   "metadata": {},
   "outputs": [
    {
     "name": "stdout",
     "output_type": "stream",
     "text": [
      "WWCR WWCR is a shortwave radio station located in Nashville, Tennessee in the United States. WWCR uses four 100 kW transmitters to broadcast on about a dozen frequencies.WWCR mainly leases out its four transmitters to religious organizations and speakers. However, it does air a few hours of original programming per week.F.W. Robbert Broadcasting also owns the AM (mediumwave) stations WNQM in Nashville, WMQM and WLRM in Memphis, WITA in Knoxville, and WVOG in New Orleans.\n"
     ]
    }
   ],
   "source": [
    "out_0_str = out[\"combined_text\"].to_list()[0]\n",
    "print(out_0_str)"
   ]
  },
  {
   "cell_type": "code",
   "execution_count": null,
   "metadata": {},
   "outputs": [],
   "source": []
  }
 ],
 "metadata": {
  "kernelspec": {
   "display_name": "polarsvec",
   "language": "python",
   "name": "python3"
  },
  "language_info": {
   "codemirror_mode": {
    "name": "ipython",
    "version": 3
   },
   "file_extension": ".py",
   "mimetype": "text/x-python",
   "name": "python",
   "nbconvert_exporter": "python",
   "pygments_lexer": "ipython3",
   "version": "3.12.1"
  }
 },
 "nbformat": 4,
 "nbformat_minor": 2
}
