{
 "cells": [
  {
   "cell_type": "code",
   "execution_count": 2,
   "metadata": {},
   "outputs": [
    {
     "name": "stderr",
     "output_type": "stream",
     "text": [
      "/Users/tommasofurlanello/.pyenv/versions/3.12.1/envs/polarsvec/lib/python3.12/site-packages/tqdm/auto.py:21: TqdmWarning: IProgress not found. Please update jupyter and ipywidgets. See https://ipywidgets.readthedocs.io/en/stable/user_install.html\n",
      "  from .autonotebook import tqdm as notebook_tqdm\n"
     ]
    }
   ],
   "source": [
    "import os\n",
    "from datasets import load_dataset\n"
   ]
  },
  {
   "cell_type": "code",
   "execution_count": 3,
   "metadata": {},
   "outputs": [],
   "source": [
    "# Get the current directory\n",
    "current_dir = os.getcwd()\n",
    "\n",
    "# Specify the cache directory as 'data' subdirectory within the current directory\n",
    "cache_dir = os.path.join(current_dir, \"data\")\n"
   ]
  },
  {
   "cell_type": "code",
   "execution_count": 4,
   "metadata": {},
   "outputs": [
    {
     "name": "stdout",
     "output_type": "stream",
     "text": [
      "Cache directory:  /Users/tommasofurlanello/Documents/Dev/PolarsVS/data\n"
     ]
    }
   ],
   "source": [
    "print(\"Cache directory: \", cache_dir)"
   ]
  },
  {
   "cell_type": "code",
   "execution_count": 12,
   "metadata": {},
   "outputs": [
    {
     "name": "stdout",
     "output_type": "stream",
     "text": [
      "Dataset path:  Qdrant/dbpedia-entities-openai3-text-embedding-3-large-3072-1M\n"
     ]
    }
   ],
   "source": [
    "small_100k = \"dbpedia-entities-openai3-text-embedding-3-small-1536-100K\"\n",
    "big_1m = \"dbpedia-entities-openai3-text-embedding-3-large-3072-1M\"\n",
    "name = big_1m\n",
    "dataset_path = \"Qdrant/\"+name\n",
    "print(\"Dataset path: \", dataset_path)"
   ]
  },
  {
   "cell_type": "code",
   "execution_count": 6,
   "metadata": {},
   "outputs": [
    {
     "name": "stderr",
     "output_type": "stream",
     "text": [
      "Downloading readme: 100%|██████████| 1.08k/1.08k [00:00<00:00, 1.69MB/s]\n",
      "Downloading data: 100%|██████████| 394M/394M [00:36<00:00, 10.9MB/s] \n",
      "Downloading data: 100%|██████████| 394M/394M [00:38<00:00, 10.2MB/s] \n",
      "Downloading data: 100%|██████████| 394M/394M [00:36<00:00, 10.9MB/s] \n",
      "Downloading data: 100%|██████████| 394M/394M [00:32<00:00, 12.3MB/s] \n",
      "Downloading data: 100%|██████████| 394M/394M [00:48<00:00, 8.04MB/s] \n",
      "Downloading data: 100%|██████████| 394M/394M [00:46<00:00, 8.49MB/s] \n",
      "Downloading data: 100%|██████████| 394M/394M [00:44<00:00, 8.82MB/s] \n",
      "Downloading data: 100%|██████████| 394M/394M [00:46<00:00, 8.39MB/s] \n",
      "Downloading data: 100%|██████████| 394M/394M [00:43<00:00, 9.08MB/s] \n",
      "Downloading data: 100%|██████████| 394M/394M [00:44<00:00, 8.90MB/s] \n",
      "Downloading data: 100%|██████████| 394M/394M [00:47<00:00, 8.21MB/s] \n",
      "Downloading data: 100%|██████████| 394M/394M [00:43<00:00, 9.06MB/s] \n",
      "Downloading data: 100%|██████████| 394M/394M [00:43<00:00, 9.00MB/s] \n",
      "Downloading data: 100%|██████████| 394M/394M [00:50<00:00, 7.74MB/s] \n",
      "Downloading data: 100%|██████████| 394M/394M [00:49<00:00, 7.97MB/s] \n",
      "Downloading data: 100%|██████████| 394M/394M [00:47<00:00, 8.33MB/s] \n",
      "Downloading data: 100%|██████████| 394M/394M [00:45<00:00, 8.72MB/s] \n",
      "Downloading data: 100%|██████████| 394M/394M [00:41<00:00, 9.55MB/s] \n",
      "Downloading data: 100%|██████████| 394M/394M [00:55<00:00, 7.08MB/s] \n",
      "Downloading data: 100%|██████████| 394M/394M [00:46<00:00, 8.40MB/s] \n",
      "Downloading data: 100%|██████████| 394M/394M [00:46<00:00, 8.44MB/s] \n",
      "Downloading data: 100%|██████████| 394M/394M [00:47<00:00, 8.32MB/s] \n",
      "Downloading data: 100%|██████████| 394M/394M [00:43<00:00, 9.03MB/s] \n",
      "Downloading data: 100%|██████████| 394M/394M [00:47<00:00, 8.35MB/s] \n",
      "Downloading data: 100%|██████████| 394M/394M [00:43<00:00, 9.08MB/s] \n",
      "Downloading data: 100%|██████████| 394M/394M [00:49<00:00, 8.03MB/s] \n",
      "Downloading data: 100%|██████████| 394M/394M [00:47<00:00, 8.23MB/s] \n",
      "Downloading data: 100%|██████████| 394M/394M [00:47<00:00, 8.21MB/s] \n",
      "Downloading data: 100%|██████████| 394M/394M [00:51<00:00, 7.62MB/s] \n",
      "Downloading data: 100%|██████████| 394M/394M [00:43<00:00, 9.12MB/s] \n",
      "Downloading data: 100%|██████████| 394M/394M [00:44<00:00, 8.79MB/s] \n",
      "Downloading data: 100%|██████████| 394M/394M [00:45<00:00, 8.59MB/s] \n",
      "Downloading data: 100%|██████████| 394M/394M [00:53<00:00, 7.39MB/s] \n",
      "Downloading data: 100%|██████████| 394M/394M [00:44<00:00, 8.75MB/s] \n",
      "Downloading data: 100%|██████████| 394M/394M [00:50<00:00, 7.86MB/s] \n",
      "Downloading data: 100%|██████████| 394M/394M [00:50<00:00, 7.85MB/s] \n",
      "Downloading data: 100%|██████████| 394M/394M [00:47<00:00, 8.26MB/s] \n",
      "Downloading data: 100%|██████████| 394M/394M [00:54<00:00, 7.26MB/s] \n",
      "Downloading data: 100%|██████████| 394M/394M [00:49<00:00, 7.92MB/s] \n",
      "Downloading data: 100%|██████████| 394M/394M [00:45<00:00, 8.64MB/s] \n",
      "Downloading data: 100%|██████████| 394M/394M [00:52<00:00, 7.55MB/s] \n",
      "Downloading data: 100%|██████████| 394M/394M [00:44<00:00, 8.78MB/s] \n",
      "Downloading data: 100%|██████████| 394M/394M [00:47<00:00, 8.21MB/s] \n",
      "Downloading data: 100%|██████████| 394M/394M [00:45<00:00, 8.63MB/s] \n",
      "Downloading data: 100%|██████████| 394M/394M [00:49<00:00, 7.88MB/s] \n",
      "Downloading data: 100%|██████████| 394M/394M [00:45<00:00, 8.58MB/s] \n",
      "Downloading data: 100%|██████████| 394M/394M [00:47<00:00, 8.28MB/s] \n",
      "Downloading data: 100%|██████████| 394M/394M [00:48<00:00, 8.10MB/s] \n",
      "Downloading data: 100%|██████████| 394M/394M [00:44<00:00, 8.90MB/s] \n",
      "Downloading data: 100%|██████████| 394M/394M [00:41<00:00, 9.56MB/s] \n",
      "Downloading data: 100%|██████████| 394M/394M [00:47<00:00, 8.28MB/s] \n",
      "Downloading data: 100%|██████████| 394M/394M [00:46<00:00, 8.48MB/s] \n",
      "Downloading data: 100%|██████████| 394M/394M [00:50<00:00, 7.76MB/s] \n",
      "Downloading data: 100%|██████████| 394M/394M [00:44<00:00, 8.93MB/s] \n",
      "Downloading data: 100%|██████████| 394M/394M [00:46<00:00, 8.44MB/s] \n",
      "Downloading data: 100%|██████████| 394M/394M [00:53<00:00, 7.43MB/s] \n",
      "Downloading data: 100%|██████████| 394M/394M [00:51<00:00, 7.58MB/s] \n",
      "Downloading data: 100%|██████████| 394M/394M [00:49<00:00, 7.92MB/s] \n",
      "Downloading data: 100%|██████████| 394M/394M [00:52<00:00, 7.52MB/s] \n",
      "Downloading data: 100%|██████████| 394M/394M [00:55<00:00, 7.09MB/s] \n",
      "Downloading data: 100%|██████████| 394M/394M [00:55<00:00, 7.04MB/s] \n",
      "Downloading data: 100%|██████████| 394M/394M [00:53<00:00, 7.40MB/s] \n",
      "Downloading data: 100%|██████████| 394M/394M [00:50<00:00, 7.81MB/s] \n",
      "Generating train split: 100%|██████████| 1000000/1000000 [00:29<00:00, 33442.25 examples/s]\n"
     ]
    }
   ],
   "source": [
    "dataset = load_dataset(\n",
    "    dataset_path,\n",
    "    cache_dir=cache_dir\n",
    ")"
   ]
  },
  {
   "cell_type": "code",
   "execution_count": 9,
   "metadata": {},
   "outputs": [
    {
     "data": {
      "text/plain": [
       "Dataset({\n",
       "    features: ['_id', 'title', 'text', 'text-embedding-ada-002-1536-embedding', 'text-embedding-3-large-3072-embedding'],\n",
       "    num_rows: 1000000\n",
       "})"
      ]
     },
     "execution_count": 9,
     "metadata": {},
     "output_type": "execute_result"
    }
   ],
   "source": [
    "dataset[\"train\"]"
   ]
  },
  {
   "cell_type": "code",
   "execution_count": 13,
   "metadata": {},
   "outputs": [
    {
     "data": {
      "text/plain": [
       "'dbpedia-entities-openai3-text-embedding-3-large-3072-1M.parquet'"
      ]
     },
     "execution_count": 13,
     "metadata": {},
     "output_type": "execute_result"
    }
   ],
   "source": [
    "out_name = name+\".parquet\"\n",
    "out_name"
   ]
  },
  {
   "cell_type": "code",
   "execution_count": 14,
   "metadata": {},
   "outputs": [
    {
     "name": "stderr",
     "output_type": "stream",
     "text": [
      "Creating parquet from Arrow format: 100%|██████████| 1000/1000 [01:20<00:00, 12.38ba/s]\n"
     ]
    },
    {
     "data": {
      "text/plain": [
       "31115725776"
      ]
     },
     "execution_count": 14,
     "metadata": {},
     "output_type": "execute_result"
    }
   ],
   "source": [
    "\n",
    "out_path = os.path.join(cache_dir, out_name)\n",
    "dataset[\"train\"].to_parquet(out_path)"
   ]
  },
  {
   "cell_type": "code",
   "execution_count": 15,
   "metadata": {},
   "outputs": [],
   "source": [
    "#load with polars\n",
    "import polars as pl\n",
    "df = pl.read_parquet(out_path)"
   ]
  },
  {
   "cell_type": "code",
   "execution_count": 17,
   "metadata": {},
   "outputs": [
    {
     "data": {
      "text/html": [
       "<div><style>\n",
       ".dataframe > thead > tr,\n",
       ".dataframe > tbody > tr {\n",
       "  text-align: right;\n",
       "  white-space: pre-wrap;\n",
       "}\n",
       "</style>\n",
       "<small>shape: (1_000_000, 5)</small><table border=\"1\" class=\"dataframe\"><thead><tr><th>_id</th><th>title</th><th>text</th><th>text-embedding-ada-002-1536-embedding</th><th>text-embedding-3-large-3072-embedding</th></tr><tr><td>str</td><td>str</td><td>str</td><td>list[f32]</td><td>list[f64]</td></tr></thead><tbody><tr><td>&quot;&lt;dbpedia:Parab…</td><td>&quot;Parabolic refl…</td><td>&quot;A parabolic (o…</td><td>[-0.00761, 0.008855, … -0.015155]</td><td>[-0.022388, 0.028537, … -0.013797]</td></tr><tr><td>&quot;&lt;dbpedia:John_…</td><td>&quot;John Baird (Ca…</td><td>&quot;John Russell B…</td><td>[-0.019437, -0.010979, … 0.004123]</td><td>[-0.009061, -0.011509, … 0.014185]</td></tr><tr><td>&quot;&lt;dbpedia:The_8…</td><td>&quot;The 80s: A Loo…</td><td>&quot;The 80s: A Loo…</td><td>[-0.015201, -0.038395, … -0.014912]</td><td>[-0.006117, -0.002699, … -0.000185]</td></tr><tr><td>&quot;&lt;dbpedia:Shin_…</td><td>&quot;Shin Sang-ok&quot;</td><td>&quot;Shin Sang-ok (…</td><td>[0.004762, -0.045806, … 0.001344]</td><td>[0.033835, -0.006922, … -0.023406]</td></tr><tr><td>&quot;&lt;dbpedia:Géza_…</td><td>&quot;Géza Anda&quot;</td><td>&quot;Géza Anda (Hun…</td><td>[-0.021659, 0.002985, … -0.030994]</td><td>[-0.013956, 0.007346, … 0.002309]</td></tr><tr><td>&quot;&lt;dbpedia:Marge…</td><td>&quot;Marge vs. the …</td><td>&quot;&quot;Marge vs. the…</td><td>[0.003947, 0.002513, … -0.027158]</td><td>[-0.016115, -0.016613, … 0.002089]</td></tr><tr><td>&quot;&lt;dbpedia:Quebe…</td><td>&quot;Quebec general…</td><td>&quot;The Quebec gen…</td><td>[-0.034606, -0.016147, … -0.010495]</td><td>[0.029057, 0.005818, … 0.005066]</td></tr><tr><td>&quot;&lt;dbpedia:D._P.…</td><td>&quot;D. P. Todd Sec…</td><td>&quot;D.P. Todd Seco…</td><td>[0.00312, 0.000938, … 0.010828]</td><td>[0.024967, 0.003702, … 0.02632]</td></tr><tr><td>&quot;&lt;dbpedia:Denni…</td><td>&quot;Dennis Gamsy&quot;</td><td>&quot;Dennis Gamsy (…</td><td>[-0.014098, -0.005521, … 0.012226]</td><td>[0.024082, 0.017386, … 0.007041]</td></tr><tr><td>&quot;&lt;dbpedia:Gourm…</td><td>&quot;Gourmet Night&quot;</td><td>&quot;&quot;Gourmet Night…</td><td>[0.010111, -0.023203, … -0.026946]</td><td>[-0.015987, 0.029655, … 0.010463]</td></tr><tr><td>&quot;&lt;dbpedia:817_S…</td><td>&quot;817 Squadron R…</td><td>&quot;817 Squadron w…</td><td>[-0.008894, -0.002839, … -0.003771]</td><td>[-0.031801, 0.016233, … 0.026679]</td></tr><tr><td>&quot;&lt;dbpedia:The_S…</td><td>&quot;The Standard (…</td><td>&quot;The Standard i…</td><td>[-0.004138, 0.01255, … -0.037984]</td><td>[-0.001427, -0.017657, … 0.014263]</td></tr><tr><td>&hellip;</td><td>&hellip;</td><td>&hellip;</td><td>&hellip;</td><td>&hellip;</td></tr><tr><td>&quot;&lt;dbpedia:Commo…</td><td>&quot;Common rock th…</td><td>&quot;The common roc…</td><td>[0.001492, -0.012717, … -0.014893]</td><td>[-0.004788, 0.017107, … 0.028859]</td></tr><tr><td>&quot;&lt;dbpedia:Angam…</td><td>&quot;Angami Naga&quot;</td><td>&quot;The Angamis ar…</td><td>[-0.001749, -0.027482, … -0.017468]</td><td>[-0.033619, 0.014189, … 0.00333]</td></tr><tr><td>&quot;&lt;dbpedia:Oga_P…</td><td>&quot;Oga Peninsula&quot;</td><td>&quot;The Oga Penins…</td><td>[0.0135, -0.00765, … -0.008786]</td><td>[-0.006787, -0.026435, … -0.002515]</td></tr><tr><td>&quot;&lt;dbpedia:Daniu…</td><td>&quot;Danius&quot;</td><td>&quot;Danius (Welsh:…</td><td>[-0.00317, 0.006347, … 0.014476]</td><td>[0.016086, 0.029862, … -0.017907]</td></tr><tr><td>&quot;&lt;dbpedia:Resti…</td><td>&quot;Restitutio ad …</td><td>&quot;Restitutio ad …</td><td>[-0.000577, 0.004096, … -0.024333]</td><td>[-0.014246, -0.024884, … 0.005373]</td></tr><tr><td>&quot;&lt;dbpedia:Pleis…</td><td>&quot;Pleisthenes&quot;</td><td>&quot;In Greek mytho…</td><td>[-0.012026, -0.007451, … -0.018125]</td><td>[0.008138, -0.003476, … -0.011425]</td></tr><tr><td>&quot;&lt;dbpedia:Cody_…</td><td>&quot;Cody Carlson&quot;</td><td>&quot;Matthew Cody C…</td><td>[-0.014787, -0.012791, … 0.00541]</td><td>[0.005427, -0.036458, … -0.012576]</td></tr><tr><td>&quot;&lt;dbpedia:Boome…</td><td>&quot;Boomerang (Han…</td><td>&quot;Boomerang is a…</td><td>[-0.025716, -0.037303, … -0.008939]</td><td>[-0.007003, -0.011693, … 0.012524]</td></tr><tr><td>&quot;&lt;dbpedia:Claud…</td><td>&quot;Claud Schuster…</td><td>&quot;Claud Schuster…</td><td>[-0.001881, -0.013321, … -0.002801]</td><td>[0.041402, -0.003655, … -0.010248]</td></tr><tr><td>&quot;&lt;dbpedia:Georg…</td><td>&quot;Georgia Northe…</td><td>&quot;The Georgia No…</td><td>[-0.015391, 0.002983, … -0.003073]</td><td>[-0.010983, -0.000058, … 0.031838]</td></tr><tr><td>&quot;&lt;dbpedia:Music…</td><td>&quot;Music of Ukrai…</td><td>&quot;Ukrainian musi…</td><td>[-0.002115, 0.001167, … -0.002924]</td><td>[-0.022814, -0.006859, … -0.004651]</td></tr><tr><td>&quot;&lt;dbpedia:Affix…</td><td>&quot;Affix grammar …</td><td>&quot;In linguistics…</td><td>[-0.013847, 0.003497, … -0.037904]</td><td>[-0.029692, 0.042943, … 0.014484]</td></tr></tbody></table></div>"
      ],
      "text/plain": [
       "shape: (1_000_000, 5)\n",
       "┌───────────────────┬───────────────────┬───────────────────┬───────────────────┬──────────────────┐\n",
       "│ _id               ┆ title             ┆ text              ┆ text-embedding-ad ┆ text-embedding-3 │\n",
       "│ ---               ┆ ---               ┆ ---               ┆ a-002-1536-embe…  ┆ -large-3072-embe │\n",
       "│ str               ┆ str               ┆ str               ┆ ---               ┆ …                │\n",
       "│                   ┆                   ┆                   ┆ list[f32]         ┆ ---              │\n",
       "│                   ┆                   ┆                   ┆                   ┆ list[f64]        │\n",
       "╞═══════════════════╪═══════════════════╪═══════════════════╪═══════════════════╪══════════════════╡\n",
       "│ <dbpedia:Paraboli ┆ Parabolic         ┆ A parabolic (or   ┆ [-0.00761,        ┆ [-0.022388,      │\n",
       "│ c_reflector>      ┆ reflector         ┆ paraboloid or pa… ┆ 0.008855, …       ┆ 0.028537, …      │\n",
       "│                   ┆                   ┆                   ┆ -0.015155…        ┆ -0.01379…        │\n",
       "│ <dbpedia:John_Bai ┆ John Baird        ┆ John Russell      ┆ [-0.019437,       ┆ [-0.009061,      │\n",
       "│ rd_(Canadian_po…  ┆ (Canadian         ┆ Baird, PC (born   ┆ -0.010979, …      ┆ -0.011509, …     │\n",
       "│                   ┆ politician)       ┆ May…              ┆ 0.00412…          ┆ 0.01418…         │\n",
       "│ <dbpedia:The_80s: ┆ The 80s: A Look   ┆ The 80s: A Look   ┆ [-0.015201,       ┆ [-0.006117,      │\n",
       "│ _A_Look_Back_at…  ┆ Back at the Tumu… ┆ Back at the Tumu… ┆ -0.038395, …      ┆ -0.002699, …     │\n",
       "│                   ┆                   ┆                   ┆ -0.0149…          ┆ -0.0001…         │\n",
       "│ <dbpedia:Shin_San ┆ Shin Sang-ok      ┆ Shin Sang-ok      ┆ [0.004762,        ┆ [0.033835,       │\n",
       "│ g-ok>             ┆                   ┆ (October 18, 1926 ┆ -0.045806, …      ┆ -0.006922, …     │\n",
       "│                   ┆                   ┆ –…                ┆ 0.001344…         ┆ -0.02340…        │\n",
       "│ <dbpedia:Géza_And ┆ Géza Anda         ┆ Géza Anda         ┆ [-0.021659,       ┆ [-0.013956,      │\n",
       "│ a>                ┆                   ┆ (Hungarian        ┆ 0.002985, …       ┆ 0.007346, …      │\n",
       "│                   ┆                   ┆ pronunciati…      ┆ -0.03099…         ┆ 0.002309…        │\n",
       "│ …                 ┆ …                 ┆ …                 ┆ …                 ┆ …                │\n",
       "│ <dbpedia:Boomeran ┆ Boomerang (Hanson ┆ Boomerang is a    ┆ [-0.025716,       ┆ [-0.007003,      │\n",
       "│ g_(Hanson_album…  ┆ album)            ┆ demo album by     ┆ -0.037303, …      ┆ -0.011693, …     │\n",
       "│                   ┆                   ┆ Ame…              ┆ -0.0089…          ┆ 0.01252…         │\n",
       "│ <dbpedia:Claud_Sc ┆ Claud Schuster,   ┆ Claud Schuster,   ┆ [-0.001881,       ┆ [0.041402,       │\n",
       "│ huster,_1st_Bar…  ┆ 1st Baron Schust… ┆ 1st Baron Schust… ┆ -0.013321, …      ┆ -0.003655, …     │\n",
       "│                   ┆                   ┆                   ┆ -0.0028…          ┆ -0.01024…        │\n",
       "│ <dbpedia:Georgia_ ┆ Georgia           ┆ The Georgia       ┆ [-0.015391,       ┆ [-0.010983,      │\n",
       "│ Northeastern_Ra…  ┆ Northeastern      ┆ Northeastern      ┆ 0.002983, …       ┆ -0.000058, …     │\n",
       "│                   ┆ Railroad          ┆ Railroa…          ┆ -0.00307…         ┆ 0.03183…         │\n",
       "│ <dbpedia:Music_of ┆ Music of Ukraine  ┆ Ukrainian music   ┆ [-0.002115,       ┆ [-0.022814,      │\n",
       "│ _Ukraine>         ┆                   ┆ (Ukrainian: Укра… ┆ 0.001167, …       ┆ -0.006859, …     │\n",
       "│                   ┆                   ┆                   ┆ -0.00292…         ┆ -0.0046…         │\n",
       "│ <dbpedia:Affix_gr ┆ Affix grammar     ┆ In linguistics,   ┆ [-0.013847,       ┆ [-0.029692,      │\n",
       "│ ammar_over_a_fi…  ┆ over a finite     ┆ the affix gramma… ┆ 0.003497, …       ┆ 0.042943, …      │\n",
       "│                   ┆ latt…             ┆                   ┆ -0.03790…         ┆ 0.014484…        │\n",
       "└───────────────────┴───────────────────┴───────────────────┴───────────────────┴──────────────────┘"
      ]
     },
     "execution_count": 17,
     "metadata": {},
     "output_type": "execute_result"
    }
   ],
   "source": [
    "df"
   ]
  },
  {
   "cell_type": "code",
   "execution_count": 19,
   "metadata": {},
   "outputs": [
    {
     "data": {
      "text/html": [
       "<div><style>\n",
       ".dataframe > thead > tr,\n",
       ".dataframe > tbody > tr {\n",
       "  text-align: right;\n",
       "  white-space: pre-wrap;\n",
       "}\n",
       "</style>\n",
       "<small>shape: (1_000_000, 6)</small><table border=\"1\" class=\"dataframe\"><thead><tr><th>_id</th><th>title</th><th>text</th><th>text-embedding-ada-002-1536-embedding</th><th>text-embedding-3-large-3072-embedding</th><th>combined_text</th></tr><tr><td>str</td><td>str</td><td>str</td><td>list[f32]</td><td>list[f64]</td><td>str</td></tr></thead><tbody><tr><td>&quot;&lt;dbpedia:Parab…</td><td>&quot;Parabolic refl…</td><td>&quot;A parabolic (o…</td><td>[-0.00761, 0.008855, … -0.015155]</td><td>[-0.022388, 0.028537, … -0.013797]</td><td>&quot;Parabolic refl…</td></tr><tr><td>&quot;&lt;dbpedia:John_…</td><td>&quot;John Baird (Ca…</td><td>&quot;John Russell B…</td><td>[-0.019437, -0.010979, … 0.004123]</td><td>[-0.009061, -0.011509, … 0.014185]</td><td>&quot;John Baird (Ca…</td></tr><tr><td>&quot;&lt;dbpedia:The_8…</td><td>&quot;The 80s: A Loo…</td><td>&quot;The 80s: A Loo…</td><td>[-0.015201, -0.038395, … -0.014912]</td><td>[-0.006117, -0.002699, … -0.000185]</td><td>&quot;The 80s: A Loo…</td></tr><tr><td>&quot;&lt;dbpedia:Shin_…</td><td>&quot;Shin Sang-ok&quot;</td><td>&quot;Shin Sang-ok (…</td><td>[0.004762, -0.045806, … 0.001344]</td><td>[0.033835, -0.006922, … -0.023406]</td><td>&quot;Shin Sang-ok S…</td></tr><tr><td>&quot;&lt;dbpedia:Géza_…</td><td>&quot;Géza Anda&quot;</td><td>&quot;Géza Anda (Hun…</td><td>[-0.021659, 0.002985, … -0.030994]</td><td>[-0.013956, 0.007346, … 0.002309]</td><td>&quot;Géza Anda Géza…</td></tr><tr><td>&quot;&lt;dbpedia:Marge…</td><td>&quot;Marge vs. the …</td><td>&quot;&quot;Marge vs. the…</td><td>[0.003947, 0.002513, … -0.027158]</td><td>[-0.016115, -0.016613, … 0.002089]</td><td>&quot;Marge vs. the …</td></tr><tr><td>&quot;&lt;dbpedia:Quebe…</td><td>&quot;Quebec general…</td><td>&quot;The Quebec gen…</td><td>[-0.034606, -0.016147, … -0.010495]</td><td>[0.029057, 0.005818, … 0.005066]</td><td>&quot;Quebec general…</td></tr><tr><td>&quot;&lt;dbpedia:D._P.…</td><td>&quot;D. P. Todd Sec…</td><td>&quot;D.P. Todd Seco…</td><td>[0.00312, 0.000938, … 0.010828]</td><td>[0.024967, 0.003702, … 0.02632]</td><td>&quot;D. P. Todd Sec…</td></tr><tr><td>&quot;&lt;dbpedia:Denni…</td><td>&quot;Dennis Gamsy&quot;</td><td>&quot;Dennis Gamsy (…</td><td>[-0.014098, -0.005521, … 0.012226]</td><td>[0.024082, 0.017386, … 0.007041]</td><td>&quot;Dennis Gamsy D…</td></tr><tr><td>&quot;&lt;dbpedia:Gourm…</td><td>&quot;Gourmet Night&quot;</td><td>&quot;&quot;Gourmet Night…</td><td>[0.010111, -0.023203, … -0.026946]</td><td>[-0.015987, 0.029655, … 0.010463]</td><td>&quot;Gourmet Night …</td></tr><tr><td>&quot;&lt;dbpedia:817_S…</td><td>&quot;817 Squadron R…</td><td>&quot;817 Squadron w…</td><td>[-0.008894, -0.002839, … -0.003771]</td><td>[-0.031801, 0.016233, … 0.026679]</td><td>&quot;817 Squadron R…</td></tr><tr><td>&quot;&lt;dbpedia:The_S…</td><td>&quot;The Standard (…</td><td>&quot;The Standard i…</td><td>[-0.004138, 0.01255, … -0.037984]</td><td>[-0.001427, -0.017657, … 0.014263]</td><td>&quot;The Standard (…</td></tr><tr><td>&hellip;</td><td>&hellip;</td><td>&hellip;</td><td>&hellip;</td><td>&hellip;</td><td>&hellip;</td></tr><tr><td>&quot;&lt;dbpedia:Commo…</td><td>&quot;Common rock th…</td><td>&quot;The common roc…</td><td>[0.001492, -0.012717, … -0.014893]</td><td>[-0.004788, 0.017107, … 0.028859]</td><td>&quot;Common rock th…</td></tr><tr><td>&quot;&lt;dbpedia:Angam…</td><td>&quot;Angami Naga&quot;</td><td>&quot;The Angamis ar…</td><td>[-0.001749, -0.027482, … -0.017468]</td><td>[-0.033619, 0.014189, … 0.00333]</td><td>&quot;Angami Naga Th…</td></tr><tr><td>&quot;&lt;dbpedia:Oga_P…</td><td>&quot;Oga Peninsula&quot;</td><td>&quot;The Oga Penins…</td><td>[0.0135, -0.00765, … -0.008786]</td><td>[-0.006787, -0.026435, … -0.002515]</td><td>&quot;Oga Peninsula …</td></tr><tr><td>&quot;&lt;dbpedia:Daniu…</td><td>&quot;Danius&quot;</td><td>&quot;Danius (Welsh:…</td><td>[-0.00317, 0.006347, … 0.014476]</td><td>[0.016086, 0.029862, … -0.017907]</td><td>&quot;Danius Danius …</td></tr><tr><td>&quot;&lt;dbpedia:Resti…</td><td>&quot;Restitutio ad …</td><td>&quot;Restitutio ad …</td><td>[-0.000577, 0.004096, … -0.024333]</td><td>[-0.014246, -0.024884, … 0.005373]</td><td>&quot;Restitutio ad …</td></tr><tr><td>&quot;&lt;dbpedia:Pleis…</td><td>&quot;Pleisthenes&quot;</td><td>&quot;In Greek mytho…</td><td>[-0.012026, -0.007451, … -0.018125]</td><td>[0.008138, -0.003476, … -0.011425]</td><td>&quot;Pleisthenes In…</td></tr><tr><td>&quot;&lt;dbpedia:Cody_…</td><td>&quot;Cody Carlson&quot;</td><td>&quot;Matthew Cody C…</td><td>[-0.014787, -0.012791, … 0.00541]</td><td>[0.005427, -0.036458, … -0.012576]</td><td>&quot;Cody Carlson M…</td></tr><tr><td>&quot;&lt;dbpedia:Boome…</td><td>&quot;Boomerang (Han…</td><td>&quot;Boomerang is a…</td><td>[-0.025716, -0.037303, … -0.008939]</td><td>[-0.007003, -0.011693, … 0.012524]</td><td>&quot;Boomerang (Han…</td></tr><tr><td>&quot;&lt;dbpedia:Claud…</td><td>&quot;Claud Schuster…</td><td>&quot;Claud Schuster…</td><td>[-0.001881, -0.013321, … -0.002801]</td><td>[0.041402, -0.003655, … -0.010248]</td><td>&quot;Claud Schuster…</td></tr><tr><td>&quot;&lt;dbpedia:Georg…</td><td>&quot;Georgia Northe…</td><td>&quot;The Georgia No…</td><td>[-0.015391, 0.002983, … -0.003073]</td><td>[-0.010983, -0.000058, … 0.031838]</td><td>&quot;Georgia Northe…</td></tr><tr><td>&quot;&lt;dbpedia:Music…</td><td>&quot;Music of Ukrai…</td><td>&quot;Ukrainian musi…</td><td>[-0.002115, 0.001167, … -0.002924]</td><td>[-0.022814, -0.006859, … -0.004651]</td><td>&quot;Music of Ukrai…</td></tr><tr><td>&quot;&lt;dbpedia:Affix…</td><td>&quot;Affix grammar …</td><td>&quot;In linguistics…</td><td>[-0.013847, 0.003497, … -0.037904]</td><td>[-0.029692, 0.042943, … 0.014484]</td><td>&quot;Affix grammar …</td></tr></tbody></table></div>"
      ],
      "text/plain": [
       "shape: (1_000_000, 6)\n",
       "┌────────────────┬────────────────┬────────────────┬───────────────┬───────────────┬───────────────┐\n",
       "│ _id            ┆ title          ┆ text           ┆ text-embeddin ┆ text-embeddin ┆ combined_text │\n",
       "│ ---            ┆ ---            ┆ ---            ┆ g-ada-002-153 ┆ g-3-large-307 ┆ ---           │\n",
       "│ str            ┆ str            ┆ str            ┆ 6-embe…       ┆ 2-embe…       ┆ str           │\n",
       "│                ┆                ┆                ┆ ---           ┆ ---           ┆               │\n",
       "│                ┆                ┆                ┆ list[f32]     ┆ list[f64]     ┆               │\n",
       "╞════════════════╪════════════════╪════════════════╪═══════════════╪═══════════════╪═══════════════╡\n",
       "│ <dbpedia:Parab ┆ Parabolic      ┆ A parabolic    ┆ [-0.00761,    ┆ [-0.022388,   ┆ Parabolic     │\n",
       "│ olic_reflector ┆ reflector      ┆ (or paraboloid ┆ 0.008855, …   ┆ 0.028537, …   ┆ reflector A   │\n",
       "│ >              ┆                ┆ or pa…         ┆ -0.015155…    ┆ -0.01379…     ┆ parabolic …   │\n",
       "│ <dbpedia:John_ ┆ John Baird     ┆ John Russell   ┆ [-0.019437,   ┆ [-0.009061,   ┆ John Baird    │\n",
       "│ Baird_(Canadia ┆ (Canadian      ┆ Baird, PC      ┆ -0.010979, …  ┆ -0.011509, …  ┆ (Canadian     │\n",
       "│ n_po…          ┆ politician)    ┆ (born May…     ┆ 0.00412…      ┆ 0.01418…      ┆ politician)…  │\n",
       "│ <dbpedia:The_8 ┆ The 80s: A     ┆ The 80s: A     ┆ [-0.015201,   ┆ [-0.006117,   ┆ The 80s: A    │\n",
       "│ 0s:_A_Look_Bac ┆ Look Back at   ┆ Look Back at   ┆ -0.038395, …  ┆ -0.002699, …  ┆ Look Back at  │\n",
       "│ k_at…          ┆ the Tumu…      ┆ the Tumu…      ┆ -0.0149…      ┆ -0.0001…      ┆ the Tumu…     │\n",
       "│ <dbpedia:Shin_ ┆ Shin Sang-ok   ┆ Shin Sang-ok   ┆ [0.004762,    ┆ [0.033835,    ┆ Shin Sang-ok  │\n",
       "│ Sang-ok>       ┆                ┆ (October 18,   ┆ -0.045806, …  ┆ -0.006922, …  ┆ Shin Sang-ok  │\n",
       "│                ┆                ┆ 1926 –…        ┆ 0.001344…     ┆ -0.02340…     ┆ (Octob…       │\n",
       "│ <dbpedia:Géza_ ┆ Géza Anda      ┆ Géza Anda      ┆ [-0.021659,   ┆ [-0.013956,   ┆ Géza Anda     │\n",
       "│ Anda>          ┆                ┆ (Hungarian     ┆ 0.002985, …   ┆ 0.007346, …   ┆ Géza Anda     │\n",
       "│                ┆                ┆ pronunciati…   ┆ -0.03099…     ┆ 0.002309…     ┆ (Hungarian p… │\n",
       "│ …              ┆ …              ┆ …              ┆ …             ┆ …             ┆ …             │\n",
       "│ <dbpedia:Boome ┆ Boomerang      ┆ Boomerang is a ┆ [-0.025716,   ┆ [-0.007003,   ┆ Boomerang     │\n",
       "│ rang_(Hanson_a ┆ (Hanson album) ┆ demo album by  ┆ -0.037303, …  ┆ -0.011693, …  ┆ (Hanson       │\n",
       "│ lbum…          ┆                ┆ Ame…           ┆ -0.0089…      ┆ 0.01252…      ┆ album)        │\n",
       "│                ┆                ┆                ┆               ┆               ┆ Boomera…      │\n",
       "│ <dbpedia:Claud ┆ Claud          ┆ Claud          ┆ [-0.001881,   ┆ [0.041402,    ┆ Claud         │\n",
       "│ _Schuster,_1st ┆ Schuster, 1st  ┆ Schuster, 1st  ┆ -0.013321, …  ┆ -0.003655, …  ┆ Schuster, 1st │\n",
       "│ _Bar…          ┆ Baron Schust…  ┆ Baron Schust…  ┆ -0.0028…      ┆ -0.01024…     ┆ Baron Schust… │\n",
       "│ <dbpedia:Georg ┆ Georgia        ┆ The Georgia    ┆ [-0.015391,   ┆ [-0.010983,   ┆ Georgia       │\n",
       "│ ia_Northeaster ┆ Northeastern   ┆ Northeastern   ┆ 0.002983, …   ┆ -0.000058, …  ┆ Northeastern  │\n",
       "│ n_Ra…          ┆ Railroad       ┆ Railroa…       ┆ -0.00307…     ┆ 0.03183…      ┆ Railroad Th…  │\n",
       "│ <dbpedia:Music ┆ Music of       ┆ Ukrainian      ┆ [-0.002115,   ┆ [-0.022814,   ┆ Music of      │\n",
       "│ _of_Ukraine>   ┆ Ukraine        ┆ music          ┆ 0.001167, …   ┆ -0.006859, …  ┆ Ukraine       │\n",
       "│                ┆                ┆ (Ukrainian:    ┆ -0.00292…     ┆ -0.0046…      ┆ Ukrainian     │\n",
       "│                ┆                ┆ Укра…          ┆               ┆               ┆ music…        │\n",
       "│ <dbpedia:Affix ┆ Affix grammar  ┆ In             ┆ [-0.013847,   ┆ [-0.029692,   ┆ Affix grammar │\n",
       "│ _grammar_over_ ┆ over a finite  ┆ linguistics,   ┆ 0.003497, …   ┆ 0.042943, …   ┆ over a finite │\n",
       "│ a_fi…          ┆ latt…          ┆ the affix      ┆ -0.03790…     ┆ 0.014484…     ┆ latt…         │\n",
       "│                ┆                ┆ gramma…        ┆               ┆               ┆               │\n",
       "└────────────────┴────────────────┴────────────────┴───────────────┴───────────────┴───────────────┘"
      ]
     },
     "execution_count": 19,
     "metadata": {},
     "output_type": "execute_result"
    }
   ],
   "source": [
    "if \"combined_text\" not in df.columns:\n",
    "    df = df.with_columns(\n",
    "        (pl.col(\"title\") + pl.lit(\" \") + pl.col(\"text\")).alias(\"combined_text\")\n",
    "    )\n"
   ]
  },
  {
   "cell_type": "code",
   "execution_count": 20,
   "metadata": {},
   "outputs": [],
   "source": [
    "embeddings_name = \"text-embedding-3-large-3072-embedding\" if name == big_1m else \"text-embedding-3-small-1536-embedding\"\n",
    "df_only_text_embeddings = df.select([pl.col(\"combined_text\"),pl.col(embeddings_name).alias(\"embeddings\")])\n",
    "pre_name = \"big_1m\" if name == big_1m else \"small_100k\"\n",
    "out_name= pre_name+\"_test_dataset_dbpedia.parquet\"\n",
    "out_path = os.path.join(cache_dir, out_name)\n",
    "df_only_text_embeddings.write_parquet(out_path)"
   ]
  },
  {
   "cell_type": "code",
   "execution_count": null,
   "metadata": {},
   "outputs": [],
   "source": []
  }
 ],
 "metadata": {
  "kernelspec": {
   "display_name": "polarsvec",
   "language": "python",
   "name": "python3"
  },
  "language_info": {
   "codemirror_mode": {
    "name": "ipython",
    "version": 3
   },
   "file_extension": ".py",
   "mimetype": "text/x-python",
   "name": "python",
   "nbconvert_exporter": "python",
   "pygments_lexer": "ipython3",
   "version": "3.12.1"
  }
 },
 "nbformat": 4,
 "nbformat_minor": 2
}
